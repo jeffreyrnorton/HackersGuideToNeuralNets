{
 "cells": [
  {
   "cell_type": "markdown",
   "metadata": {
    "colab_type": "text",
    "id": "ywTsFTgFYPB1"
   },
   "source": [
    "# Radial Basis Functions and Feed Forward Networks\n",
    "\n",
    "Radial basis function networks are *not* feed forward networks.  Feed forward networks are typically used for classification whereas radial bases function networks are used for *fitting* contiguous functions.\n",
    "\n",
    "## Environment Preparation\n",
    "\n",
    "Upgrade and install packages.  Add more packages as required in your environment."
   ]
  },
  {
   "cell_type": "code",
   "execution_count": 5,
   "metadata": {
    "colab": {
     "autoexec": {
      "startup": false,
      "wait_interval": 0
     },
     "base_uri": "https://localhost:8080/",
     "height": 34
    },
    "colab_type": "code",
    "executionInfo": {
     "elapsed": 2513,
     "status": "ok",
     "timestamp": 1532455739544,
     "user": {
      "displayName": "Jeffrey Norton",
      "photoUrl": "https://lh3.googleusercontent.com/a/default-user=s128",
      "userId": "105168130564860049225"
     },
     "user_tz": 420
    },
    "id": "pxLe3WxQWrXj",
    "outputId": "0b8cf9c8-70c2-4efb-c931-424ce2b2a5e1"
   },
   "outputs": [
    {
     "name": "stdout",
     "output_type": "stream",
     "text": [
      "Collecting pip\n",
      "\u001b[?25l  Downloading https://files.pythonhosted.org/packages/5f/25/e52d3f31441505a5f3af41213346e5b6c221c9e086a166f3703d2ddaf940/pip-18.0-py2.py3-none-any.whl (1.3MB)\n",
      "\u001b[K    100% |████████████████████████████████| 1.3MB 913kB/s ta 0:00:01    73% |███████████████████████▌        | 962kB 2.9MB/s eta 0:00:01\n",
      "\u001b[31mpyasn1-modules 0.2.2 has requirement pyasn1<0.5.0,>=0.4.1, but you'll have pyasn1 0.1.9 which is incompatible.\u001b[0m\n",
      "\u001b[31mmsrest 0.5.4 has requirement requests~=2.16, but you'll have requests 2.14.2 which is incompatible.\u001b[0m\n",
      "\u001b[31mazure-cli-interactive 0.3.24 has requirement six~=1.11.0, but you'll have six 1.10.0 which is incompatible.\u001b[0m\n",
      "\u001b[?25hInstalling collected packages: pip\n",
      "  Found existing installation: pip 10.0.1\n",
      "    Uninstalling pip-10.0.1:\n",
      "      Successfully uninstalled pip-10.0.1\n",
      "Successfully installed pip-18.0\n"
     ]
    }
   ],
   "source": [
    "!pip install --upgrade pip"
   ]
  },
  {
   "cell_type": "code",
   "execution_count": null,
   "metadata": {},
   "outputs": [],
   "source": [
    "!pip install -U keras"
   ]
  },
  {
   "cell_type": "code",
   "execution_count": null,
   "metadata": {
    "colab": {
     "autoexec": {
      "startup": false,
      "wait_interval": 0
     },
     "base_uri": "https://localhost:8080/",
     "height": 84
    },
    "colab_type": "code",
    "executionInfo": {
     "elapsed": 2625,
     "status": "ok",
     "timestamp": 1532455742229,
     "user": {
      "displayName": "Jeffrey Norton",
      "photoUrl": "https://lh3.googleusercontent.com/a/default-user=s128",
      "userId": "105168130564860049225"
     },
     "user_tz": 420
    },
    "id": "ovd_vbTOacSu",
    "outputId": "473e15ab-9418-4d49-adbe-07b61d70026b"
   },
   "outputs": [],
   "source": [
    "!pip install -U theano"
   ]
  },
  {
   "cell_type": "code",
   "execution_count": null,
   "metadata": {
    "colab": {
     "autoexec": {
      "startup": false,
      "wait_interval": 0
     },
     "base_uri": "https://localhost:8080/",
     "height": 252
    },
    "colab_type": "code",
    "executionInfo": {
     "elapsed": 2955,
     "status": "ok",
     "timestamp": 1532455745211,
     "user": {
      "displayName": "Jeffrey Norton",
      "photoUrl": "https://lh3.googleusercontent.com/a/default-user=s128",
      "userId": "105168130564860049225"
     },
     "user_tz": 420
    },
    "id": "AuYQ0RSLaeya",
    "outputId": "aeeef67f-3468-4a02-ef33-b667346b4eaf"
   },
   "outputs": [
    {
     "name": "stdout",
     "output_type": "stream",
     "text": [
      "Collecting tensorflow\n",
      "\u001b[?25l  Downloading https://files.pythonhosted.org/packages/fd/f7/934f351b5d814a0c883b7cbc9ce9cb6244d387f8bf065ddb28301f1488da/tensorflow-1.9.0-cp35-cp35m-manylinux1_x86_64.whl (51.1MB)\n",
      "\u001b[K    100% |████████████████████████████████| 51.1MB 4.8kB/s ta 0:00:01  4% |█▍                              | 2.3MB 2.2MB/s eta 0:00:23    15% |████▉                           | 7.7MB 3.1MB/s eta 0:00:14    15% |█████                           | 8.1MB 2.3MB/s eta 0:00:19    21% |██████▉                         | 10.9MB 2.9MB/s eta 0:00:14    23% |███████▌                        | 12.0MB 3.1MB/s eta 0:00:13    23% |███████▋                        | 12.2MB 3.0MB/s eta 0:00:13    30% |█████████▉                      | 15.7MB 1.1MB/s eta 0:00:33    30% |█████████▉                      | 15.8MB 789kB/s eta 0:00:45    36% |███████████▊                    | 18.8MB 2.4MB/s eta 0:00:14    37% |████████████                    | 19.3MB 379kB/s eta 0:01:24    45% |██████████████▋                 | 23.3MB 766kB/s eta 0:00:37    50% |████████████████▎               | 26.0MB 915kB/s eta 0:00:28    52% |████████████████▋               | 26.6MB 1.8MB/s eta 0:00:14    52% |████████████████▊               | 26.8MB 1.4MB/s eta 0:00:18    55% |█████████████████▉              | 28.5MB 1.5MB/s eta 0:00:15    58% |██████████████████▊             | 30.0MB 861kB/s eta 0:00:25    66% |█████████████████████▍          | 34.1MB 1.7MB/s eta 0:00:10    67% |█████████████████████▋          | 34.5MB 3.0MB/s eta 0:00:06    70% |██████████████████████▌         | 36.0MB 317kB/s eta 0:00:48    71% |██████████████████████▉         | 36.4MB 2.8MB/s eta 0:00:06    71% |███████████████████████         | 36.7MB 950kB/s eta 0:00:16    72% |███████████████████████▏        | 37.1MB 3.7MB/s eta 0:00:04    73% |███████████████████████▋        | 37.8MB 3.1MB/s eta 0:00:05    74% |███████████████████████▉        | 38.1MB 2.4MB/s eta 0:00:06    | 42.5MB 1.1MB/s eta 0:00:08    83% |██████████████████████████▉     | 42.9MB 1.4MB/s eta 0:00:06��██████████    | 44.7MB 2.8MB/s eta 0:00:03    87% |████████████████████████████    | 44.8MB 1.3MB/s eta 0:00:06    89% |████████████████████████████▋   | 45.8MB 2.0MB/s eta 0:00:03    89% |████████████████████████████▊   | 46.0MB 1.9MB/s eta 0:00:03    91% |█████████████████████████████▍  | 47.0MB 3.4MB/s eta 0:00:02\n",
      "\u001b[?25hCollecting setuptools<=39.1.0 (from tensorflow)\n",
      "\u001b[?25l  Downloading https://files.pythonhosted.org/packages/8c/10/79282747f9169f21c053c562a0baa21815a8c7879be97abd930dbcf862e8/setuptools-39.1.0-py2.py3-none-any.whl (566kB)\n",
      "\u001b[K    100% |████████████████████████████████| 573kB 1.7MB/s ta 0:00:01    32% |██████████▍                     | 184kB 4.6MB/s eta 0:00:01    70% |██████████████████████▌         | 399kB 3.1MB/s eta 0:00:01\n",
      "\u001b[?25hCollecting tensorboard<1.10.0,>=1.9.0 (from tensorflow)\n",
      "\u001b[?25l  Downloading https://files.pythonhosted.org/packages/9e/1f/3da43860db614e294a034e42d4be5c8f7f0d2c75dc1c428c541116d8cdab/tensorboard-1.9.0-py3-none-any.whl (3.3MB)\n",
      "\u001b[K    100% |████████████████████████████████| 3.3MB 1.2MB/s ta 0:00:01   4% |█▌                              | 153kB 2.7MB/s eta 0:00:02    33% |██████████▉                     | 1.1MB 2.8MB/s eta 0:00:01\n",
      "\u001b[?25hCollecting gast>=0.2.0 (from tensorflow)\n",
      "  Downloading https://files.pythonhosted.org/packages/5c/78/ff794fcae2ce8aa6323e789d1f8b3b7765f601e7702726f430e814822b96/gast-0.2.0.tar.gz\n",
      "Requirement already satisfied, skipping upgrade: six>=1.10.0 in /home/nbuser/anaconda3_420/lib/python3.5/site-packages (from tensorflow) (1.10.0)\n",
      "Requirement already satisfied, skipping upgrade: wheel>=0.26 in /home/nbuser/anaconda3_420/lib/python3.5/site-packages (from tensorflow) (0.30.0)\n",
      "Collecting termcolor>=1.1.0 (from tensorflow)\n",
      "  Downloading https://files.pythonhosted.org/packages/8a/48/a76be51647d0eb9f10e2a4511bf3ffb8cc1e6b14e9e4fab46173aa79f981/termcolor-1.1.0.tar.gz\n",
      "Requirement already satisfied, skipping upgrade: protobuf>=3.4.0 in /home/nbuser/anaconda3_420/lib/python3.5/site-packages (from tensorflow) (3.4.1)\n",
      "Requirement already satisfied, skipping upgrade: grpcio>=1.8.6 in /home/nbuser/anaconda3_420/lib/python3.5/site-packages (from tensorflow) (1.13.0)\n",
      "Collecting absl-py>=0.1.6 (from tensorflow)\n",
      "\u001b[?25l  Downloading https://files.pythonhosted.org/packages/57/8d/6664518f9b6ced0aa41cf50b989740909261d4c212557400c48e5cda0804/absl-py-0.2.2.tar.gz (82kB)\n",
      "\u001b[K    100% |████████████████████████████████| 92kB 1.8MB/s ta 0:00:01\n",
      "\u001b[?25hCollecting astor>=0.6.0 (from tensorflow)\n",
      "  Downloading https://files.pythonhosted.org/packages/35/6b/11530768cac581a12952a2aad00e1526b89d242d0b9f59534ef6e6a1752f/astor-0.7.1-py2.py3-none-any.whl\n",
      "Requirement already satisfied, skipping upgrade: numpy>=1.13.3 in /home/nbuser/anaconda3_420/lib/python3.5/site-packages (from tensorflow) (1.14.5)\n",
      "Collecting markdown>=2.6.8 (from tensorboard<1.10.0,>=1.9.0->tensorflow)\n",
      "\u001b[?25l  Downloading https://files.pythonhosted.org/packages/6d/7d/488b90f470b96531a3f5788cf12a93332f543dbab13c423a5e7ce96a0493/Markdown-2.6.11-py2.py3-none-any.whl (78kB)\n",
      "\u001b[K    100% |████████████████████████████████| 81kB 1.5MB/s ta 0:00:011\n",
      "\u001b[?25hRequirement already satisfied, skipping upgrade: werkzeug>=0.11.10 in /home/nbuser/anaconda3_420/lib/python3.5/site-packages (from tensorboard<1.10.0,>=1.9.0->tensorflow) (0.11.11)\n",
      "Building wheels for collected packages: gast, termcolor, absl-py\n",
      "  Running setup.py bdist_wheel for gast ... \u001b[?25ldone\n",
      "\u001b[?25h  Stored in directory: /home/nbuser/.cache/pip/wheels/9a/1f/0e/3cde98113222b853e98fc0a8e9924480a3e25f1b4008cedb4f\n",
      "  Running setup.py bdist_wheel for termcolor ... \u001b[?25ldone\n",
      "\u001b[?25h  Stored in directory: /home/nbuser/.cache/pip/wheels/7c/06/54/bc84598ba1daf8f970247f550b175aaaee85f68b4b0c5ab2c6\n",
      "  Running setup.py bdist_wheel for absl-py ... \u001b[?25ldone\n",
      "\u001b[?25h  Stored in directory: /home/nbuser/.cache/pip/wheels/a0/f8/e9/1933dbb3447ea6ef57062fd5461cb118deb8c2ed074e8344bf\n",
      "Successfully built gast termcolor absl-py\n",
      "Installing collected packages: setuptools, markdown, tensorboard, gast, termcolor, absl-py, astor, tensorflow\n",
      "  Found existing installation: setuptools 40.0.0\n",
      "    Uninstalling setuptools-40.0.0:\n",
      "      Successfully uninstalled setuptools-40.0.0\n",
      "  Found existing installation: tensorflow 1.1.0\n",
      "    Uninstalling tensorflow-1.1.0:\n",
      "      Successfully uninstalled tensorflow-1.1.0\n"
     ]
    }
   ],
   "source": [
    "!pip install -U tensorflow"
   ]
  },
  {
   "cell_type": "code",
   "execution_count": null,
   "metadata": {
    "colab": {
     "autoexec": {
      "startup": false,
      "wait_interval": 0
     },
     "base_uri": "https://localhost:8080/",
     "height": 34
    },
    "colab_type": "code",
    "executionInfo": {
     "elapsed": 2880,
     "status": "ok",
     "timestamp": 1532455748138,
     "user": {
      "displayName": "Jeffrey Norton",
      "photoUrl": "https://lh3.googleusercontent.com/a/default-user=s128",
      "userId": "105168130564860049225"
     },
     "user_tz": 420
    },
    "id": "QoKef0EAajA1",
    "outputId": "126edddc-3d51-4d1e-eddc-8b63eac582f4"
   },
   "outputs": [],
   "source": [
    "!pip install -U numpy"
   ]
  },
  {
   "cell_type": "markdown",
   "metadata": {
    "colab_type": "text",
    "id": "4ORjJ8vvvOvF"
   },
   "source": [
    "### Where am I?\n",
    "\n",
    "One goal is to allow the notebooks to exist and run anywhere.  The following code, while somewhat kludgy, will at least allow us to guess where the notebook is running."
   ]
  },
  {
   "cell_type": "code",
   "execution_count": 8,
   "metadata": {},
   "outputs": [
    {
     "name": "stdout",
     "output_type": "stream",
     "text": [
      "Detected Environment: Microsoft Azure Notebook\n"
     ]
    }
   ],
   "source": [
    "env = None\n",
    "colaboratory_flag = False\n",
    "try:\n",
    "    # This will work for everything but Google Colaboratory since the utility is somewhere on Google Drive\n",
    "    # which is not yet mounted and so it is not reachable.\n",
    "    #\n",
    "    from utilities.detect_environment import detect_environment\n",
    "\n",
    "    env = detect_environment()\n",
    "\n",
    "    print('Detected Environment: {}'.format(env))\n",
    "    if env.detected_environment == utilities.detect_environment.COLABORATORY:\n",
    "        colaboratory_flag = True\n",
    "    \n",
    "except:\n",
    "    # Check if on Colaboratory\n",
    "    import os\n",
    "    try:\n",
    "        os.environ['DATALAB_SETTINGS_OVERRIDES']\n",
    "        colaboratory_flag = True\n",
    "    except:\n",
    "        pass\n",
    "        "
   ]
  },
  {
   "cell_type": "markdown",
   "metadata": {
    "colab_type": "text",
    "id": "4ORjJ8vvvOvF"
   },
   "source": [
    "If running on Google Colaboratory, mount Google Drive so we can use our utilities.  See [https://gist.github.com/osmszk/4d170bb100209000ad362f1d5bf7c927](https://gist.github.com/osmszk/4d170bb100209000ad362f1d5bf7c927).  If on Colaboratory, the code will mount your Google Drive at /content/drive."
   ]
  },
  {
   "cell_type": "code",
   "execution_count": 9,
   "metadata": {
    "colab": {
     "autoexec": {
      "startup": false,
      "wait_interval": 0
     },
     "base_uri": "https://localhost:8080/",
     "height": 104
    },
    "colab_type": "code",
    "executionInfo": {
     "elapsed": 44150,
     "status": "ok",
     "timestamp": 1532460910356,
     "user": {
      "displayName": "Jeffrey Norton",
      "photoUrl": "https://lh3.googleusercontent.com/a/default-user=s128",
      "userId": "105168130564860049225"
     },
     "user_tz": 420
    },
    "id": "iqLfu5Jgt_7d",
    "outputId": "f31f8a02-dcb0-4c55-f387-1f5f322b7267"
   },
   "outputs": [],
   "source": [
    "if colaboratory_flag:\n",
    "    #colab\n",
    "    # google-drive-ocamlfuse\n",
    "    # https://github.com/astrada/google-drive-ocamlfuse\n",
    "    !apt-get install -y -qq software-properties-common python-software-properties module-init-tools\n",
    "    !add-apt-repository -y ppa:alessandro-strada/ppa 2>&1 > /dev/null\n",
    "    !apt-get update -qq 2>&1 > /dev/null\n",
    "    !apt-get -y install -qq google-drive-ocamlfuse fuse\n",
    "\n",
    "    # Colab Auth token\n",
    "    from google.colab import auth\n",
    "    auth.authenticate_user()\n",
    "\n",
    "    # Drive FUSE library credential\n",
    "    from oauth2client.client import GoogleCredentials\n",
    "    creds = GoogleCredentials.get_application_default()\n",
    "    import getpass\n",
    "    !google-drive-ocamlfuse -headless -id={creds.client_id} -secret={creds.client_secret} < /dev/null 2>&1 | grep URL\n",
    "    vcode = getpass.getpass()\n",
    "    !echo {vcode} | google-drive-ocamlfuse -headless -id={creds.client_id} -secret={creds.client_secret}\n",
    "\n",
    "    # drive/ Google Drive\n",
    "    !mkdir -p drive\n",
    "    !google-drive-ocamlfuse drive"
   ]
  },
  {
   "cell_type": "markdown",
   "metadata": {
    "colab_type": "text",
    "id": "C6SPfBTObt0t"
   },
   "source": [
    "## Keras Backend\n",
    "\n",
    "Choose the backend to use before importing any Keras libraries.  Microsoft's *cntk* has a lot of dependencies on Microsoft's C++ software, etc. and may not be appropriate for the environment you want to run in.  In fact, when I tried it on Azure Free Notebooks in July 2018, it crashed!\n",
    "\n",
    "TensorFlow - [https://www.tensorflow.org/](https://www.tensorflow.org/)\n",
    "\n",
    "Theano - [http://deeplearning.net/software/theano/](http://deeplearning.net/software/theano)"
   ]
  },
  {
   "cell_type": "code",
   "execution_count": 12,
   "metadata": {
    "colab": {
     "autoexec": {
      "startup": false,
      "wait_interval": 0
     }
    },
    "colab_type": "code",
    "id": "zaiuMjzIayt-"
   },
   "outputs": [],
   "source": [
    "import os\n",
    "\n",
    "os.environ['KERAS_BACKEND'] = 'tensorflow'\n",
    "os.environ['KERAS_BACKEND'] = 'theano'"
   ]
  },
  {
   "cell_type": "code",
   "execution_count": 11,
   "metadata": {},
   "outputs": [
    {
     "name": "stdout",
     "output_type": "stream",
     "text": [
      "Requirement already up-to-date: cntk in /home/nbuser/anaconda3_420/lib/python3.5/site-packages (2.5.1)\n",
      "Requirement already satisfied, skipping upgrade: scipy>=0.17 in /home/nbuser/anaconda3_420/lib/python3.5/site-packages (from cntk) (0.19.0)\n",
      "Requirement already satisfied, skipping upgrade: numpy>=1.11 in /home/nbuser/anaconda3_420/lib/python3.5/site-packages (from cntk) (1.14.5)\n"
     ]
    }
   ],
   "source": [
    "if os.environ['KERAS_BACKEND'] == 'cntk' and env.detected_environment == detect_environment.AZURE:\n",
    "    !pip install -U cntk"
   ]
  },
  {
   "cell_type": "markdown",
   "metadata": {
    "colab_type": "text",
    "id": "VlHHPCamW0g_"
   },
   "source": [
    "Make results reproducible by setting a fixed seed for random number generation."
   ]
  },
  {
   "cell_type": "code",
   "execution_count": 13,
   "metadata": {
    "colab": {
     "autoexec": {
      "startup": false,
      "wait_interval": 0
     }
    },
    "colab_type": "code",
    "id": "xnJI8yK3Y93B"
   },
   "outputs": [],
   "source": [
    "import numpy as np\n",
    "\n",
    "# fix random seed for reproducibility\n",
    "seed = 155\n",
    "np.random.seed(seed)"
   ]
  },
  {
   "cell_type": "markdown",
   "metadata": {
    "colab_type": "text",
    "id": "OOFVn98VpZP5"
   },
   "source": [
    "## RBF Layer for Keras\n",
    "Keras doesn't provide RBF layers natively.  [Petra Vidnerova](https://github.com/PetraVidnerova/rbf_keras) does provide an RBF layer - this demonstrates how to write custom layers in Keras."
   ]
  },
  {
   "cell_type": "code",
   "execution_count": 14,
   "metadata": {
    "colab": {
     "autoexec": {
      "startup": false,
      "wait_interval": 0
     },
     "base_uri": "https://localhost:8080/",
     "height": 34
    },
    "colab_type": "code",
    "executionInfo": {
     "elapsed": 2108,
     "status": "ok",
     "timestamp": 1532455751273,
     "user": {
      "displayName": "Jeffrey Norton",
      "photoUrl": "https://lh3.googleusercontent.com/a/default-user=s128",
      "userId": "105168130564860049225"
     },
     "user_tz": 420
    },
    "id": "es9ukPefpXXP",
    "outputId": "0e47b38e-f39e-4591-a3c4-f1e590607ab7"
   },
   "outputs": [
    {
     "name": "stderr",
     "output_type": "stream",
     "text": [
      "/home/nbuser/anaconda3_420/lib/python3.5/site-packages/h5py/__init__.py:36: FutureWarning: Conversion of the second argument of issubdtype from `float` to `np.floating` is deprecated. In future, it will be treated as `np.float64 == np.dtype(float).type`.\n",
      "  from ._conv import register_converters as _register_converters\n",
      "Using CNTK backend\n",
      "/home/nbuser/anaconda3_420/lib/python3.5/site-packages/keras/backend/cntk_backend.py:19: UserWarning: CNTK backend warning: GPU is not detected. CNTK's CPU version is not fully optimized,please run with GPU to get better performance.\n",
      "  'CNTK backend warning: GPU is not detected. '\n"
     ]
    }
   ],
   "source": [
    "from keras.initializers import Initializer\n",
    "import numpy as np \n",
    "\n",
    "class InitFromFile(Initializer):\n",
    "    \"\"\" Initialize the weights by loading from file.\n",
    "    # Arguments\n",
    "        filename: name of file, should by .npy file \n",
    "    \"\"\"\n",
    "    def __init__(self, filename):\n",
    "        self.filename = filename \n",
    "\n",
    "    def __call__(self, shape, dtype=None):\n",
    "        with open(self.filename, \"rb\") as f:\n",
    "            X = np.load(f)\n",
    "        assert shape == X.shape \n",
    "        return X \n",
    "\n",
    "    def get_config(self):\n",
    "        return {\n",
    "            'filename': self.filename\n",
    "        }"
   ]
  },
  {
   "cell_type": "code",
   "execution_count": 15,
   "metadata": {
    "colab": {
     "autoexec": {
      "startup": false,
      "wait_interval": 0
     }
    },
    "colab_type": "code",
    "id": "mlgadc4ep8F5"
   },
   "outputs": [],
   "source": [
    "import random \n",
    "from keras import backend as K\n",
    "from keras.engine.topology import Layer\n",
    "from keras.initializers import RandomUniform, Initializer, Orthogonal, Constant\n",
    "import numpy as np\n",
    "\n",
    "class InitCentersRandom(Initializer):\n",
    "    \"\"\" Initializer for initialization of centers of RBF network\n",
    "        as random samples from the given data set.\n",
    "    # Arguments\n",
    "        X: matrix, dataset to choose the centers from (random rows \n",
    "          are taken as centers)\n",
    "    \"\"\"\n",
    "    def __init__(self, X):\n",
    "        self.X = X \n",
    "\n",
    "    def __call__(self, shape, dtype=None):\n",
    "        assert shape[1] == self.X.shape[1]\n",
    "        idx = np.random.randint(self.X.shape[0], size=shape[0])\n",
    "        return self.X[idx,:]\n",
    "\n",
    "        \n",
    "class RBFLayer(Layer):\n",
    "    \"\"\" Layer of Gaussian RBF units. \n",
    "    # Example\n",
    " \n",
    "    ```python\n",
    "        model = Sequential()\n",
    "        model.add(RBFLayer(10,\n",
    "                           initializer=InitCentersRandom(X), \n",
    "                           betas=1.0,\n",
    "                           input_shape=(1,)))\n",
    "        model.add(Dense(1))\n",
    "    ```\n",
    "    \n",
    "    # Arguments\n",
    "        output_dim: number of hidden units (i.e. number of outputs of the layer)\n",
    "        initializer: instance of initiliazer to initialize centers\n",
    "        betas: float, initial value for betas \n",
    "    \"\"\"\n",
    "    def __init__(self, output_dim, initializer=None, betas=1.0, **kwargs):\n",
    "        self.output_dim = output_dim\n",
    "        self.init_betas = betas \n",
    "        if not initializer:\n",
    "            self.initializer = RandomUniform(0.0, 1.0)\n",
    "        else:\n",
    "            self.initializer = initializer \n",
    "        super(RBFLayer, self).__init__(**kwargs)\n",
    "\n",
    "    def build(self, input_shape):\n",
    "        \n",
    "        self.centers = self.add_weight(name='centers', \n",
    "                                       shape=(self.output_dim, input_shape[1]),\n",
    "                                       initializer=self.initializer,\n",
    "                                       trainable=True)\n",
    "        self.betas = self.add_weight(name='betas',\n",
    "                                     shape=(self.output_dim,),\n",
    "                                     initializer=Constant(value=self.init_betas),\n",
    "                                     trainable=True)\n",
    "            \n",
    "        super(RBFLayer, self).build(input_shape)  \n",
    "\n",
    "    def call(self, x):\n",
    "\n",
    "        C = K.expand_dims(self.centers)\n",
    "        H = K.transpose(C-K.transpose(x))\n",
    "        return K.exp( -self.betas * K.sum(H**2, axis=1))\n",
    "\n",
    "    def compute_output_shape(self, input_shape):\n",
    "        return (input_shape[0], self.output_dim)\n",
    "\n",
    "\n",
    "    def get_config(self):\n",
    "        # have to define get_config to be able to use model_from_json\n",
    "        config = {\n",
    "            'output_dim': self.output_dim\n",
    "        }\n",
    "        base_config = super(RBFLayer, self).get_config()\n",
    "        return dict(list(base_config.items()) + list(config.items()))"
   ]
  },
  {
   "cell_type": "markdown",
   "metadata": {
    "colab_type": "text",
    "id": "kJz4VQ2L-ARQ"
   },
   "source": [
    "## Creating an RBF **Network**\n",
    "\n",
    "Similar to our feed forward case, we write some helper functions.  First ```run_model``` will create a RBFN and fit it and calculate the fitting metrics (RMSE)."
   ]
  },
  {
   "cell_type": "code",
   "execution_count": 16,
   "metadata": {
    "colab": {
     "autoexec": {
      "startup": false,
      "wait_interval": 0
     }
    },
    "colab_type": "code",
    "id": "4onk9aCJQg-6"
   },
   "outputs": [
    {
     "name": "stderr",
     "output_type": "stream",
     "text": [
      "/home/nbuser/anaconda3_420/lib/python3.5/site-packages/matplotlib/font_manager.py:281: UserWarning: Matplotlib is building the font cache using fc-list. This may take a moment.\n",
      "  'Matplotlib is building the font cache using fc-list. '\n"
     ]
    }
   ],
   "source": [
    "import math\n",
    "import pandas as pd\n",
    "import seaborn as sns\n",
    "import matplotlib.pyplot as plt\n",
    "from sklearn.model_selection import train_test_split\n",
    "from sklearn.metrics import mean_squared_error\n",
    "\n",
    "from IPython.display import SVG\n",
    "from keras.utils.vis_utils import model_to_dot\n",
    "\n",
    "import keras\n",
    "from keras.models import Sequential\n",
    "from keras.layers import Dense, Activation\n",
    "from keras import backend as K\n",
    "from keras.utils.generic_utils import get_custom_objects"
   ]
  },
  {
   "cell_type": "markdown",
   "metadata": {
    "colab_type": "text",
    "id": "UVeqHlqOktK6"
   },
   "source": [
    "RBFs are really designed to work with continuous functions.  So one problem to consider is fitting (continuous) datasets.  For simplicity - we can simply just generate a dataset using some curve function like sin.  What's nice about using a real function is that we can generate what should be other data points with ease .\n",
    "\n",
    "One question that should be asked is if it is possible to extrapolate values, that is, perform prediction outside of the training range?  We shall discover that this is not possible, but it is a good question.\n",
    "\n",
    "## One-Dimensional Example"
   ]
  },
  {
   "cell_type": "code",
   "execution_count": 17,
   "metadata": {
    "colab": {
     "autoexec": {
      "startup": false,
      "wait_interval": 0
     }
    },
    "colab_type": "code",
    "id": "o90uTfDARds3"
   },
   "outputs": [],
   "source": [
    "stepsize = 0.05\n",
    "test0, testf = -1.0, 10.0\n",
    "train0, trainf = test0-stepsize/2.0, testf+stepsize/2.0\n",
    "\n",
    "# Generate a data set from the function sin(2*pi*t)\n",
    "def test_function(x):\n",
    "  return np.sin(2*math.pi*x)\n",
    "\n",
    "ptrain_X = np.arange(test0, testf, stepsize)\n",
    "ptrain_Y = test_function(ptrain_X)\n",
    "\n",
    "# And for validation, let's create a somewhat overlapping\n",
    "# dataset, but are going to let this dataset range go to 2.\n",
    "ptest_X = np.arange(train0, trainf, 2*stepsize)\n",
    "ptest_Y = test_function(ptest_X)"
   ]
  },
  {
   "cell_type": "code",
   "execution_count": 18,
   "metadata": {
    "colab": {
     "autoexec": {
      "startup": false,
      "wait_interval": 0
     },
     "base_uri": "https://localhost:8080/",
     "height": 128
    },
    "colab_type": "code",
    "executionInfo": {
     "elapsed": 450,
     "status": "ok",
     "timestamp": 1532455753735,
     "user": {
      "displayName": "Jeffrey Norton",
      "photoUrl": "https://lh3.googleusercontent.com/a/default-user=s128",
      "userId": "105168130564860049225"
     },
     "user_tz": 420
    },
    "id": "ifCK1BHqSWZ9",
    "outputId": "ef700190-60f8-4d43-afb2-b8d90de94190"
   },
   "outputs": [
    {
     "data": {
      "image/png": "[encoded data removed]",
      "text/plain": [
       "<matplotlib.figure.Figure at 0x7ff7381ea9e8>"
      ]
     },
     "metadata": {},
     "output_type": "display_data"
    }
   ],
   "source": [
    "sns.set(style=\"darkgrid\")\n",
    "\n",
    "# Set up the figure\n",
    "f, ax = plt.subplots(figsize=(8, 8))\n",
    "ax.set_aspect(\"equal\")\n",
    "\n",
    "# Draw the two density plots\n",
    "ax = sns.regplot(x=ptrain_X, y=ptrain_Y, fit_reg=False, color='blue')\n",
    "ax = sns.regplot(x=ptest_X, y=ptest_Y, fit_reg=False, color='red')"
   ]
  },
  {
   "cell_type": "markdown",
   "metadata": {
    "colab_type": "text",
    "id": "nsTND-Gqf9-2"
   },
   "source": [
    "Define functions which will create the model, train it, and then test it.  First, a function to create a model."
   ]
  },
  {
   "cell_type": "code",
   "execution_count": 19,
   "metadata": {
    "colab": {
     "autoexec": {
      "startup": false,
      "wait_interval": 0
     }
    },
    "colab_type": "code",
    "id": "z8XZwdw_gShl"
   },
   "outputs": [],
   "source": [
    "def create_model(X_train, hidden_layer_size, dim=1, betas=3.0, optimizer = None,\n",
    "                 lr=0.01):\n",
    "    np.random.seed(seed)\n",
    "    model = Sequential() # create model\n",
    "    \n",
    "    # Create an RBF hidden layer - this uses the Gaussian as the closeness function.\n",
    "    model.add(RBFLayer(hidden_layer_size,\n",
    "                       initializer=InitCentersRandom(X_train), \n",
    "                       betas=betas,\n",
    "                       input_shape=(dim,))) # hidden layer\n",
    "    \n",
    "    model.add(Dense(1)) # output layer\n",
    "    # Default learning rate is 0.001.  For this problem, we can get very aggressive\n",
    "    # on the learning rate.\n",
    "    if optimizer is None:\n",
    "        optimizer = keras.optimizers.Adam(lr=lr)\n",
    "    \n",
    "    # For regression (which this is closest to), use RMSE, not cross-entropy.\n",
    "    model.compile(loss='mean_squared_error',optimizer=optimizer)\n",
    "    return model"
   ]
  },
  {
   "cell_type": "code",
   "execution_count": 20,
   "metadata": {
    "colab": {
     "autoexec": {
      "startup": false,
      "wait_interval": 0
     }
    },
    "colab_type": "code",
    "id": "Vr8bkC95idg5"
   },
   "outputs": [],
   "source": [
    "def run_model(X_train, Y_train, X_test, Y_test, hidden_layer_size, epochs=1000):\n",
    "    np.random.seed(seed)\n",
    "    model = Sequential() # create model\n",
    "    \n",
    "    # Create an RBF hidden layer - this uses the Gaussian as the closeness function.\n",
    "    model.add(RBFLayer(hidden_layer_size,\n",
    "                       initializer=InitCentersRandom(X_train), \n",
    "                       betas=3.0,\n",
    "                       input_shape=(1,))) # hidden layer\n",
    "    \n",
    "    model.add(Dense(1)) # output layer\n",
    "    # Default learning rate is 0.001.  For this problem, we can get very aggressive\n",
    "    # on the learning rate.\n",
    "    adamo = keras.optimizers.Adam(lr=0.01)\n",
    "    \n",
    "    # For regression (which this is closest to), use RMSE, not cross-entropy.\n",
    "    model.compile(loss='mean_squared_error',optimizer=adamo)\n",
    "    \n",
    "    # Fit the model\n",
    "    # verbose=0 suppresses the file writing message\n",
    "    # note that the fit method expects a list of callbacks\n",
    "    fitting_log={'loss':[], 'acc':[]}\n",
    "    \n",
    "    # Fit in a loop so we can track the test accuracy as we go.\n",
    "    for i in range(epochs):\n",
    "        results = model.fit(X_train, Y_train,epochs=1, verbose=0, batch_size=X_train.shape[0],\n",
    "                            initial_epoch=0)\n",
    "        fitting_log['loss'].append(results.history['loss'][0])\n",
    "        y_pred = model.predict(X_train)\n",
    "        fitting_log['acc'].append(mean_squared_error(Y_train, y_pred))\n",
    "        \n",
    "    # Evaluate the model on the test case to see how we did.\n",
    "    y_tpred = model.predict(X_test)\n",
    "    return model, fitting_log, mean_squared_error(Y_test, y_tpred)"
   ]
  },
  {
   "cell_type": "code",
   "execution_count": null,
   "metadata": {},
   "outputs": [],
   "source": [
    "# Fit the model\n",
    "def fit_model(model, X_train, Y_train, X_test, Y_test, epochs=1000):\n",
    "    # verbose=0 suppresses the file writing message\n",
    "    # note that the fit method expects a list of callbacks\n",
    "    fitting_log={'loss':[], 'acc':[]}\n",
    "    \n",
    "    # Fit in a loop so we can track the test accuracy as we go.\n",
    "    for i in range(epochs):\n",
    "        results = model.fit(X_train, Y_train, epochs=1, verbose=0, batch_size=X_train.shape[0],\n",
    "                            initial_epoch=0)\n",
    "        fitting_log['loss'].append(results.history['loss'][0])\n",
    "        y_pred = model.predict(X_train)\n",
    "        fitting_log['acc'].append(mean_squared_error(Y_train, y_pred))\n",
    "        \n",
    "    # Evaluate the model on the test case to see how we did.\n",
    "    y_tpred = model.predict(X_test)\n",
    "    return model, fitting_log, mean_squared_error(Y_test, y_tpred)"
   ]
  },
  {
   "cell_type": "markdown",
   "metadata": {
    "colab_type": "text",
    "id": "qj7ggvVDkD_1"
   },
   "source": [
    "Plotter of loss and accuracy."
   ]
  },
  {
   "cell_type": "code",
   "execution_count": 21,
   "metadata": {
    "colab": {
     "autoexec": {
      "startup": false,
      "wait_interval": 0
     }
    },
    "colab_type": "code",
    "id": "dCVnhe3Jis8m"
   },
   "outputs": [],
   "source": [
    "def plot_nn(fitted_log):\n",
    "    fig, (ax1, ax2) = plt.subplots(2, 1)\n",
    "    ax1.plot(range(len(fitted_log['loss'])), fitted_log['loss'],linestyle='-', color='blue',label='Training', lw=2)\n",
    "    ax2.plot(range(len(fitted_log['acc'])), fitted_log['acc'],linestyle='-', color='blue',label='Training', lw=2)\n",
    "    leg = ax1.legend(bbox_to_anchor=(0.7, 0.9), loc=2, borderaxespad=0.,fontsize=13)\n",
    "    ax1.set_xticklabels('')\n",
    "    #ax1.set_yscale('log')\n",
    "    ax2.set_xlabel('# Epochs',fontsize=14)\n",
    "    ax1.set_ylabel('Loss',fontsize=14)\n",
    "    ax2.set_ylabel('Accuracy',fontsize=14)\n",
    "    plt.show()"
   ]
  },
  {
   "cell_type": "markdown",
   "metadata": {
    "colab_type": "text",
    "id": "F1afMNwr_IZG"
   },
   "source": [
    "Generates the output results."
   ]
  },
  {
   "cell_type": "code",
   "execution_count": 22,
   "metadata": {
    "colab": {
     "autoexec": {
      "startup": false,
      "wait_interval": 0
     }
    },
    "colab_type": "code",
    "id": "9GtYUEsUjPBa"
   },
   "outputs": [],
   "source": [
    "def output_results(model, fitting_log, test_deviation):\n",
    "    # Print a summary of the model\n",
    "    print(model.summary())\n",
    "    # Print the fitting log\n",
    "    nepochs = len(fitting_log['loss'])\n",
    "    print(len(fitting_log['acc']), nepochs)\n",
    "    print('Training loss, accuracy:', [fitting_log['loss'][nepochs-2:nepochs-1], fitting_log['acc'][nepochs-2:nepochs-1]])\n",
    "    plot_nn(fitting_log)\n",
    "    print('Test set metric (RMSE): {}'.format(test_deviation))"
   ]
  },
  {
   "cell_type": "markdown",
   "metadata": {
    "colab_type": "text",
    "id": "p0e8Njix_M5N"
   },
   "source": [
    "Properly shape the data."
   ]
  },
  {
   "cell_type": "code",
   "execution_count": 23,
   "metadata": {
    "colab": {
     "autoexec": {
      "startup": false,
      "wait_interval": 0
     }
    },
    "colab_type": "code",
    "id": "d6eSaifOn89n"
   },
   "outputs": [],
   "source": [
    "train_X = np.transpose(np.reshape(ptrain_X, (1,-1)))\n",
    "train_Y = np.transpose(np.reshape(ptrain_Y, (1,-1)))\n",
    "test_X = np.transpose(np.reshape(ptest_X, (1,-1)))\n",
    "test_Y = np.transpose(np.reshape(ptest_Y, (1,-1)))"
   ]
  },
  {
   "cell_type": "markdown",
   "metadata": {
    "colab_type": "text",
    "id": "-S5H4kDQ_RNz"
   },
   "source": [
    "Try a hidden layer with only five nodes."
   ]
  },
  {
   "cell_type": "code",
   "execution_count": 24,
   "metadata": {
    "colab": {
     "autoexec": {
      "startup": false,
      "wait_interval": 0
     }
    },
    "colab_type": "code",
    "id": "j-Tn0yjIj2IA"
   },
   "outputs": [
    {
     "ename": "ValueError",
     "evalue": "Axis 'Axis('staticAxisIdx=-2')' is out of bounds for the rank '1' it applies to.\n\n[CALL STACK]\n[0x7ff706ca1419]                                                       + 0x8a1419\n[0x7ff706d01184]    CNTK::  NormalizeStaticAxis  (CNTK::Axis&,  unsigned long) + 0x134\n[0x7ff706d01218]    CNTK::  NormalizeStaticAxis  (CNTK::Axis&,  CNTK::NDShape const&) + 0x58\n[0x7ff706cf5520]    CNTK::PrimitiveFunction::  InferOutputs  (std::vector<CNTK::Variable,std::allocator<CNTK::Variable>>&) + 0x34a0\n[0x7ff706ca76f4]                                                       + 0x8a76f4\n[0x7ff74180ea99]                                                       + 0xea99\n[0x7ff706ca401e]    CNTK::Function::  InitOutputs  ()                  + 0x6e\n[0x7ff706d3b81d]    CNTK::CompositeFunction::  InferOutputs  (std::vector<CNTK::Variable,std::allocator<CNTK::Variable>>&) + 0xd\n[0x7ff706ca76f4]                                                       + 0x8a76f4\n[0x7ff74180ea99]                                                       + 0xea99\n[0x7ff706ca401e]    CNTK::Function::  InitOutputs  ()                  + 0x6e\n[0x7ff706cab6f7]    CNTK::  AsComposite  (std::shared_ptr<CNTK::Function> const&,  std::__cxx11::basic_string<wchar_t,std::char_traits<wchar_t>,std::allocator<wchar_t>> const&) + 0x5b7\n[0x7ff706cb1a59]    CNTK::  UnaryOp  (CNTK::PrimitiveOpType,  CNTK::Variable const&,  CNTK::Dictionary&&,  std::__cxx11::basic_string<wchar_t,std::char_traits<wchar_t>,std::allocator<wchar_t>> const&) + 0x139\n[0x7ff706cb2a61]    CNTK::  TransposeAxes  (CNTK::Variable const&,  CNTK::Axis const&,  CNTK::Axis const&,  std::__cxx11::basic_string<wchar_t,std::char_traits<wchar_t>,std::allocator<wchar_t>> const&) + 0xd1\n[0x7ff7079a2d19]                                                       + 0x1a2d19\n[0x5634ce7a1e0b]    PyCFunction_Call                                   + 0x4b\n[0x5634ce7f884c]    PyEval_EvalFrameEx                                 + 0x3fc\n[0x5634ce80344d]    PyEval_EvalCodeEx                                  + 0x20d\n[0x5634ce804ecf]                                                       + 0x1afecf\n[0x5634ce75609a]    PyObject_Call                                      + 0x3a\n[0x5634ce7faf1c]    PyEval_EvalFrameEx                                 + 0x2acc\n[0x5634ce7fdccf]    PyEval_EvalFrameEx                                 + 0x587f\n[0x5634ce7f8f00]    PyEval_EvalFrameEx                                 + 0xab0\n[0x5634ce80344d]    PyEval_EvalCodeEx                                  + 0x20d\n[0x5634ce804ecf]                                                       + 0x1afecf\n[0x5634ce75609a]    PyObject_Call                                      + 0x3a\n[0x5634ce7faf1c]    PyEval_EvalFrameEx                                 + 0x2acc\n[0x5634ce803d99]    PyEval_EvalCodeEx                                  + 0xb59\n[0x5634ce804cf4]                                                       + 0x1afcf4\n[0x5634ce75609a]    PyObject_Call                                      + 0x3a\n[0x5634ce79f83f]                                                       + 0x14a83f\n[0x5634ce75609a]    PyObject_Call                                      + 0x3a\n[0x5634ce7b7897]                                                       + 0x162897\n[0x5634ce75609a]    PyObject_Call                                      + 0x3a\n[0x5634ce7fd212]    PyEval_EvalFrameEx                                 + 0x4dc2\n[0x5634ce7f8f00]    PyEval_EvalFrameEx                                 + 0xab0\n[0x5634ce7fd660]    PyEval_EvalFrameEx                                 + 0x5210\n[0x5634ce80344d]    PyEval_EvalCodeEx                                  + 0x20d\n[0x5634ce80436c]    PyEval_EvalCode                                    + 0x1c\n[0x5634ce860b7c]                                                       + 0x20bb7c\n[0x5634ce7a1e0b]    PyCFunction_Call                                   + 0x4b\n[0x5634ce7f884c]    PyEval_EvalFrameEx                                 + 0x3fc\n[0x5634ce7fd660]    PyEval_EvalFrameEx                                 + 0x5210 (x2)\n[0x5634ce803d99]    PyEval_EvalCodeEx                                  + 0xb59\n[0x5634ce804ecf]                                                       + 0x1afecf\n[0x5634ce75609a]    PyObject_Call                                      + 0x3a\n[0x5634ce7faf1c]    PyEval_EvalFrameEx                                 + 0x2acc\n[0x5634ce7fdccf]    PyEval_EvalFrameEx                                 + 0x587f\n[0x5634ce7fd660]    PyEval_EvalFrameEx                                 + 0x5210\n[0x5634ce7f8f00]    PyEval_EvalFrameEx                                 + 0xab0 (x2)\n[0x5634ce803d99]    PyEval_EvalCodeEx                                  + 0xb59\n[0x5634ce804ecf]                                                       + 0x1afecf\n[0x5634ce75609a]    PyObject_Call                                      + 0x3a\n[0x5634ce7faf1c]    PyEval_EvalFrameEx                                 + 0x2acc\n[0x5634ce803d99]    PyEval_EvalCodeEx                                  + 0xb59\n[0x5634ce804ecf]                                                       + 0x1afecf\n[0x5634ce75609a]    PyObject_Call                                      + 0x3a\n[0x5634ce7faf1c]    PyEval_EvalFrameEx                                 + 0x2acc\n[0x5634ce7fd660]    PyEval_EvalFrameEx                                 + 0x5210\n[0x5634ce7f8f00]    PyEval_EvalFrameEx                                 + 0xab0\n[0x5634ce80344d]    PyEval_EvalCodeEx                                  + 0x20d\n[0x5634ce804ecf]                                                       + 0x1afecf\n[0x5634ce75609a]    PyObject_Call                                      + 0x3a\n[0x5634ce7faf1c]    PyEval_EvalFrameEx                                 + 0x2acc\n[0x5634ce7fdccf]    PyEval_EvalFrameEx                                 + 0x587f\n[0x5634ce7f8f00]    PyEval_EvalFrameEx                                 + 0xab0\n[0x5634ce7fdccf]    PyEval_EvalFrameEx                                 + 0x587f\n[0x5634ce7f8f00]    PyEval_EvalFrameEx                                 + 0xab0\n[0x5634ce7fd660]    PyEval_EvalFrameEx                                 + 0x5210\n[0x5634ce80344d]    PyEval_EvalCodeEx                                  + 0x20d\n[0x5634ce80436c]    PyEval_EvalCode                                    + 0x1c\n[0x5634ce860b7c]                                                       + 0x20bb7c\n[0x5634ce7a1e0b]    PyCFunction_Call                                   + 0x4b\n[0x5634ce7f884c]    PyEval_EvalFrameEx                                 + 0x3fc\n[0x5634ce7fd660]    PyEval_EvalFrameEx                                 + 0x5210\n[0x5634ce80344d]    PyEval_EvalCodeEx                                  + 0x20d\n[0x5634ce804d69]                                                       + 0x1afd69\n[0x5634ce75609a]    PyObject_Call                                      + 0x3a\n[0x5634ce851287]                                                       + 0x1fc287\n[0x5634ce861497]    Py_Main                                            + 0x317\n[0x5634ce72d2a1]    main                                               + 0xe1\n[0x7ff741420830]    __libc_start_main                                  + 0xf0\n[0x5634ce805d18]                                                       + 0x1b0d18\n",
     "output_type": "error",
     "traceback": [
      "\u001b[0;31m---------------------------------------------------------------------------\u001b[0m",
      "\u001b[0;31mValueError\u001b[0m                                Traceback (most recent call last)",
      "\u001b[0;32m<ipython-input-24-515cf7c850c5>\u001b[0m in \u001b[0;36m<module>\u001b[0;34m()\u001b[0m\n\u001b[0;32m----> 1\u001b[0;31m \u001b[0mmodel_5\u001b[0m\u001b[0;34m,\u001b[0m \u001b[0mfitting_log_5\u001b[0m\u001b[0;34m,\u001b[0m \u001b[0mtest_deviation_5\u001b[0m \u001b[0;34m=\u001b[0m \u001b[0mrun_model\u001b[0m\u001b[0;34m(\u001b[0m\u001b[0mtrain_X\u001b[0m\u001b[0;34m,\u001b[0m \u001b[0mtrain_Y\u001b[0m\u001b[0;34m,\u001b[0m \u001b[0mtest_X\u001b[0m\u001b[0;34m,\u001b[0m \u001b[0mtest_Y\u001b[0m\u001b[0;34m,\u001b[0m \u001b[0;36m5\u001b[0m\u001b[0;34m,\u001b[0m \u001b[0mepochs\u001b[0m\u001b[0;34m=\u001b[0m\u001b[0;36m1000\u001b[0m\u001b[0;34m)\u001b[0m\u001b[0;34m\u001b[0m\u001b[0m\n\u001b[0m",
      "\u001b[0;32m<ipython-input-20-89d5df65fcc4>\u001b[0m in \u001b[0;36mrun_model\u001b[0;34m(X_train, Y_train, X_test, Y_test, hidden_layer_size, epochs)\u001b[0m\n\u001b[1;32m      7\u001b[0m                        \u001b[0minitializer\u001b[0m\u001b[0;34m=\u001b[0m\u001b[0mInitCentersRandom\u001b[0m\u001b[0;34m(\u001b[0m\u001b[0mX_train\u001b[0m\u001b[0;34m)\u001b[0m\u001b[0;34m,\u001b[0m\u001b[0;34m\u001b[0m\u001b[0m\n\u001b[1;32m      8\u001b[0m                        \u001b[0mbetas\u001b[0m\u001b[0;34m=\u001b[0m\u001b[0;36m3.0\u001b[0m\u001b[0;34m,\u001b[0m\u001b[0;34m\u001b[0m\u001b[0m\n\u001b[0;32m----> 9\u001b[0;31m                        input_shape=(1,))) # hidden layer\n\u001b[0m\u001b[1;32m     10\u001b[0m \u001b[0;34m\u001b[0m\u001b[0m\n\u001b[1;32m     11\u001b[0m     \u001b[0mmodel\u001b[0m\u001b[0;34m.\u001b[0m\u001b[0madd\u001b[0m\u001b[0;34m(\u001b[0m\u001b[0mDense\u001b[0m\u001b[0;34m(\u001b[0m\u001b[0;36m1\u001b[0m\u001b[0;34m)\u001b[0m\u001b[0;34m)\u001b[0m \u001b[0;31m# output layer\u001b[0m\u001b[0;34m\u001b[0m\u001b[0m\n",
      "\u001b[0;32m~/anaconda3_420/lib/python3.5/site-packages/keras/models.py\u001b[0m in \u001b[0;36madd\u001b[0;34m(self, layer)\u001b[0m\n\u001b[1;32m    440\u001b[0m                 \u001b[0;31m# and create the node connecting the current layer\u001b[0m\u001b[0;34m\u001b[0m\u001b[0;34m\u001b[0m\u001b[0m\n\u001b[1;32m    441\u001b[0m                 \u001b[0;31m# to the input layer we just created.\u001b[0m\u001b[0;34m\u001b[0m\u001b[0;34m\u001b[0m\u001b[0m\n\u001b[0;32m--> 442\u001b[0;31m                 \u001b[0mlayer\u001b[0m\u001b[0;34m(\u001b[0m\u001b[0mx\u001b[0m\u001b[0;34m)\u001b[0m\u001b[0;34m\u001b[0m\u001b[0m\n\u001b[0m\u001b[1;32m    443\u001b[0m \u001b[0;34m\u001b[0m\u001b[0m\n\u001b[1;32m    444\u001b[0m             \u001b[0;32mif\u001b[0m \u001b[0mlen\u001b[0m\u001b[0;34m(\u001b[0m\u001b[0mlayer\u001b[0m\u001b[0;34m.\u001b[0m\u001b[0minbound_nodes\u001b[0m\u001b[0;34m)\u001b[0m \u001b[0;34m!=\u001b[0m \u001b[0;36m1\u001b[0m\u001b[0;34m:\u001b[0m\u001b[0;34m\u001b[0m\u001b[0m\n",
      "\u001b[0;32m~/anaconda3_420/lib/python3.5/site-packages/keras/engine/topology.py\u001b[0m in \u001b[0;36m__call__\u001b[0;34m(self, inputs, **kwargs)\u001b[0m\n\u001b[1;32m    600\u001b[0m \u001b[0;34m\u001b[0m\u001b[0m\n\u001b[1;32m    601\u001b[0m             \u001b[0;31m# Actually call the layer, collecting output(s), mask(s), and shape(s).\u001b[0m\u001b[0;34m\u001b[0m\u001b[0;34m\u001b[0m\u001b[0m\n\u001b[0;32m--> 602\u001b[0;31m             \u001b[0moutput\u001b[0m \u001b[0;34m=\u001b[0m \u001b[0mself\u001b[0m\u001b[0;34m.\u001b[0m\u001b[0mcall\u001b[0m\u001b[0;34m(\u001b[0m\u001b[0minputs\u001b[0m\u001b[0;34m,\u001b[0m \u001b[0;34m**\u001b[0m\u001b[0mkwargs\u001b[0m\u001b[0;34m)\u001b[0m\u001b[0;34m\u001b[0m\u001b[0m\n\u001b[0m\u001b[1;32m    603\u001b[0m             \u001b[0moutput_mask\u001b[0m \u001b[0;34m=\u001b[0m \u001b[0mself\u001b[0m\u001b[0;34m.\u001b[0m\u001b[0mcompute_mask\u001b[0m\u001b[0;34m(\u001b[0m\u001b[0minputs\u001b[0m\u001b[0;34m,\u001b[0m \u001b[0mprevious_mask\u001b[0m\u001b[0;34m)\u001b[0m\u001b[0;34m\u001b[0m\u001b[0m\n\u001b[1;32m    604\u001b[0m \u001b[0;34m\u001b[0m\u001b[0m\n",
      "\u001b[0;32m<ipython-input-15-71716cf84817>\u001b[0m in \u001b[0;36mcall\u001b[0;34m(self, x)\u001b[0m\n\u001b[1;32m     64\u001b[0m \u001b[0;34m\u001b[0m\u001b[0m\n\u001b[1;32m     65\u001b[0m         \u001b[0mC\u001b[0m \u001b[0;34m=\u001b[0m \u001b[0mK\u001b[0m\u001b[0;34m.\u001b[0m\u001b[0mexpand_dims\u001b[0m\u001b[0;34m(\u001b[0m\u001b[0mself\u001b[0m\u001b[0;34m.\u001b[0m\u001b[0mcenters\u001b[0m\u001b[0;34m)\u001b[0m\u001b[0;34m\u001b[0m\u001b[0m\n\u001b[0;32m---> 66\u001b[0;31m         \u001b[0mH\u001b[0m \u001b[0;34m=\u001b[0m \u001b[0mK\u001b[0m\u001b[0;34m.\u001b[0m\u001b[0mtranspose\u001b[0m\u001b[0;34m(\u001b[0m\u001b[0mC\u001b[0m\u001b[0;34m-\u001b[0m\u001b[0mK\u001b[0m\u001b[0;34m.\u001b[0m\u001b[0mtranspose\u001b[0m\u001b[0;34m(\u001b[0m\u001b[0mx\u001b[0m\u001b[0;34m)\u001b[0m\u001b[0;34m)\u001b[0m\u001b[0;34m\u001b[0m\u001b[0m\n\u001b[0m\u001b[1;32m     67\u001b[0m         \u001b[0;32mreturn\u001b[0m \u001b[0mK\u001b[0m\u001b[0;34m.\u001b[0m\u001b[0mexp\u001b[0m\u001b[0;34m(\u001b[0m \u001b[0;34m-\u001b[0m\u001b[0mself\u001b[0m\u001b[0;34m.\u001b[0m\u001b[0mbetas\u001b[0m \u001b[0;34m*\u001b[0m \u001b[0mK\u001b[0m\u001b[0;34m.\u001b[0m\u001b[0msum\u001b[0m\u001b[0;34m(\u001b[0m\u001b[0mH\u001b[0m\u001b[0;34m**\u001b[0m\u001b[0;36m2\u001b[0m\u001b[0;34m,\u001b[0m \u001b[0maxis\u001b[0m\u001b[0;34m=\u001b[0m\u001b[0;36m1\u001b[0m\u001b[0;34m)\u001b[0m\u001b[0;34m)\u001b[0m\u001b[0;34m\u001b[0m\u001b[0m\n\u001b[1;32m     68\u001b[0m \u001b[0;34m\u001b[0m\u001b[0m\n",
      "\u001b[0;32m~/anaconda3_420/lib/python3.5/site-packages/keras/backend/cntk_backend.py\u001b[0m in \u001b[0;36mtranspose\u001b[0;34m(x)\u001b[0m\n\u001b[1;32m    557\u001b[0m \u001b[0;34m\u001b[0m\u001b[0m\n\u001b[1;32m    558\u001b[0m \u001b[0;32mdef\u001b[0m \u001b[0mtranspose\u001b[0m\u001b[0;34m(\u001b[0m\u001b[0mx\u001b[0m\u001b[0;34m)\u001b[0m\u001b[0;34m:\u001b[0m\u001b[0;34m\u001b[0m\u001b[0m\n\u001b[0;32m--> 559\u001b[0;31m     \u001b[0;32mreturn\u001b[0m \u001b[0mC\u001b[0m\u001b[0;34m.\u001b[0m\u001b[0mswapaxes\u001b[0m\u001b[0;34m(\u001b[0m\u001b[0mx\u001b[0m\u001b[0;34m,\u001b[0m \u001b[0;36m0\u001b[0m\u001b[0;34m,\u001b[0m \u001b[0;36m1\u001b[0m\u001b[0;34m)\u001b[0m\u001b[0;34m\u001b[0m\u001b[0m\n\u001b[0m\u001b[1;32m    560\u001b[0m \u001b[0;34m\u001b[0m\u001b[0m\n\u001b[1;32m    561\u001b[0m \u001b[0;34m\u001b[0m\u001b[0m\n",
      "\u001b[0;32m~/anaconda3_420/lib/python3.5/site-packages/cntk/internal/swig_helper.py\u001b[0m in \u001b[0;36mwrapper\u001b[0;34m(*args, **kwds)\u001b[0m\n\u001b[1;32m     67\u001b[0m     \u001b[0;34m@\u001b[0m\u001b[0mwraps\u001b[0m\u001b[0;34m(\u001b[0m\u001b[0mf\u001b[0m\u001b[0;34m)\u001b[0m\u001b[0;34m\u001b[0m\u001b[0m\n\u001b[1;32m     68\u001b[0m     \u001b[0;32mdef\u001b[0m \u001b[0mwrapper\u001b[0m\u001b[0;34m(\u001b[0m\u001b[0;34m*\u001b[0m\u001b[0margs\u001b[0m\u001b[0;34m,\u001b[0m \u001b[0;34m**\u001b[0m\u001b[0mkwds\u001b[0m\u001b[0;34m)\u001b[0m\u001b[0;34m:\u001b[0m\u001b[0;34m\u001b[0m\u001b[0m\n\u001b[0;32m---> 69\u001b[0;31m         \u001b[0mresult\u001b[0m \u001b[0;34m=\u001b[0m \u001b[0mf\u001b[0m\u001b[0;34m(\u001b[0m\u001b[0;34m*\u001b[0m\u001b[0margs\u001b[0m\u001b[0;34m,\u001b[0m \u001b[0;34m**\u001b[0m\u001b[0mkwds\u001b[0m\u001b[0;34m)\u001b[0m\u001b[0;34m\u001b[0m\u001b[0m\n\u001b[0m\u001b[1;32m     70\u001b[0m         \u001b[0mmap_if_possible\u001b[0m\u001b[0;34m(\u001b[0m\u001b[0mresult\u001b[0m\u001b[0;34m)\u001b[0m\u001b[0;34m\u001b[0m\u001b[0m\n\u001b[1;32m     71\u001b[0m         \u001b[0;32mreturn\u001b[0m \u001b[0mresult\u001b[0m\u001b[0;34m\u001b[0m\u001b[0m\n",
      "\u001b[0;32m~/anaconda3_420/lib/python3.5/site-packages/cntk/ops/__init__.py\u001b[0m in \u001b[0;36mswapaxes\u001b[0;34m(x, axis1, axis2, name)\u001b[0m\n\u001b[1;32m   2444\u001b[0m     \u001b[0maxis1\u001b[0m \u001b[0;34m=\u001b[0m \u001b[0msanitize_axis\u001b[0m\u001b[0;34m(\u001b[0m\u001b[0maxis1\u001b[0m\u001b[0;34m)\u001b[0m\u001b[0;34m\u001b[0m\u001b[0m\n\u001b[1;32m   2445\u001b[0m     \u001b[0maxis2\u001b[0m \u001b[0;34m=\u001b[0m \u001b[0msanitize_axis\u001b[0m\u001b[0;34m(\u001b[0m\u001b[0maxis2\u001b[0m\u001b[0;34m)\u001b[0m\u001b[0;34m\u001b[0m\u001b[0m\n\u001b[0;32m-> 2446\u001b[0;31m     \u001b[0;32mreturn\u001b[0m \u001b[0mtranspose_axes\u001b[0m\u001b[0;34m(\u001b[0m\u001b[0mx\u001b[0m\u001b[0;34m,\u001b[0m \u001b[0maxis1\u001b[0m\u001b[0;34m,\u001b[0m \u001b[0maxis2\u001b[0m\u001b[0;34m,\u001b[0m \u001b[0mname\u001b[0m\u001b[0;34m)\u001b[0m\u001b[0;34m\u001b[0m\u001b[0m\n\u001b[0m\u001b[1;32m   2447\u001b[0m \u001b[0;34m\u001b[0m\u001b[0m\n\u001b[1;32m   2448\u001b[0m \u001b[0;34m\u001b[0m\u001b[0m\n",
      "\u001b[0;31mValueError\u001b[0m: Axis 'Axis('staticAxisIdx=-2')' is out of bounds for the rank '1' it applies to.\n\n[CALL STACK]\n[0x7ff706ca1419]                                                       + 0x8a1419\n[0x7ff706d01184]    CNTK::  NormalizeStaticAxis  (CNTK::Axis&,  unsigned long) + 0x134\n[0x7ff706d01218]    CNTK::  NormalizeStaticAxis  (CNTK::Axis&,  CNTK::NDShape const&) + 0x58\n[0x7ff706cf5520]    CNTK::PrimitiveFunction::  InferOutputs  (std::vector<CNTK::Variable,std::allocator<CNTK::Variable>>&) + 0x34a0\n[0x7ff706ca76f4]                                                       + 0x8a76f4\n[0x7ff74180ea99]                                                       + 0xea99\n[0x7ff706ca401e]    CNTK::Function::  InitOutputs  ()                  + 0x6e\n[0x7ff706d3b81d]    CNTK::CompositeFunction::  InferOutputs  (std::vector<CNTK::Variable,std::allocator<CNTK::Variable>>&) + 0xd\n[0x7ff706ca76f4]                                                       + 0x8a76f4\n[0x7ff74180ea99]                                                       + 0xea99\n[0x7ff706ca401e]    CNTK::Function::  InitOutputs  ()                  + 0x6e\n[0x7ff706cab6f7]    CNTK::  AsComposite  (std::shared_ptr<CNTK::Function> const&,  std::__cxx11::basic_string<wchar_t,std::char_traits<wchar_t>,std::allocator<wchar_t>> const&) + 0x5b7\n[0x7ff706cb1a59]    CNTK::  UnaryOp  (CNTK::PrimitiveOpType,  CNTK::Variable const&,  CNTK::Dictionary&&,  std::__cxx11::basic_string<wchar_t,std::char_traits<wchar_t>,std::allocator<wchar_t>> const&) + 0x139\n[0x7ff706cb2a61]    CNTK::  TransposeAxes  (CNTK::Variable const&,  CNTK::Axis const&,  CNTK::Axis const&,  std::__cxx11::basic_string<wchar_t,std::char_traits<wchar_t>,std::allocator<wchar_t>> const&) + 0xd1\n[0x7ff7079a2d19]                                                       + 0x1a2d19\n[0x5634ce7a1e0b]    PyCFunction_Call                                   + 0x4b\n[0x5634ce7f884c]    PyEval_EvalFrameEx                                 + 0x3fc\n[0x5634ce80344d]    PyEval_EvalCodeEx                                  + 0x20d\n[0x5634ce804ecf]                                                       + 0x1afecf\n[0x5634ce75609a]    PyObject_Call                                      + 0x3a\n[0x5634ce7faf1c]    PyEval_EvalFrameEx                                 + 0x2acc\n[0x5634ce7fdccf]    PyEval_EvalFrameEx                                 + 0x587f\n[0x5634ce7f8f00]    PyEval_EvalFrameEx                                 + 0xab0\n[0x5634ce80344d]    PyEval_EvalCodeEx                                  + 0x20d\n[0x5634ce804ecf]                                                       + 0x1afecf\n[0x5634ce75609a]    PyObject_Call                                      + 0x3a\n[0x5634ce7faf1c]    PyEval_EvalFrameEx                                 + 0x2acc\n[0x5634ce803d99]    PyEval_EvalCodeEx                                  + 0xb59\n[0x5634ce804cf4]                                                       + 0x1afcf4\n[0x5634ce75609a]    PyObject_Call                                      + 0x3a\n[0x5634ce79f83f]                                                       + 0x14a83f\n[0x5634ce75609a]    PyObject_Call                                      + 0x3a\n[0x5634ce7b7897]                                                       + 0x162897\n[0x5634ce75609a]    PyObject_Call                                      + 0x3a\n[0x5634ce7fd212]    PyEval_EvalFrameEx                                 + 0x4dc2\n[0x5634ce7f8f00]    PyEval_EvalFrameEx                                 + 0xab0\n[0x5634ce7fd660]    PyEval_EvalFrameEx                                 + 0x5210\n[0x5634ce80344d]    PyEval_EvalCodeEx                                  + 0x20d\n[0x5634ce80436c]    PyEval_EvalCode                                    + 0x1c\n[0x5634ce860b7c]                                                       + 0x20bb7c\n[0x5634ce7a1e0b]    PyCFunction_Call                                   + 0x4b\n[0x5634ce7f884c]    PyEval_EvalFrameEx                                 + 0x3fc\n[0x5634ce7fd660]    PyEval_EvalFrameEx                                 + 0x5210 (x2)\n[0x5634ce803d99]    PyEval_EvalCodeEx                                  + 0xb59\n[0x5634ce804ecf]                                                       + 0x1afecf\n[0x5634ce75609a]    PyObject_Call                                      + 0x3a\n[0x5634ce7faf1c]    PyEval_EvalFrameEx                                 + 0x2acc\n[0x5634ce7fdccf]    PyEval_EvalFrameEx                                 + 0x587f\n[0x5634ce7fd660]    PyEval_EvalFrameEx                                 + 0x5210\n[0x5634ce7f8f00]    PyEval_EvalFrameEx                                 + 0xab0 (x2)\n[0x5634ce803d99]    PyEval_EvalCodeEx                                  + 0xb59\n[0x5634ce804ecf]                                                       + 0x1afecf\n[0x5634ce75609a]    PyObject_Call                                      + 0x3a\n[0x5634ce7faf1c]    PyEval_EvalFrameEx                                 + 0x2acc\n[0x5634ce803d99]    PyEval_EvalCodeEx                                  + 0xb59\n[0x5634ce804ecf]                                                       + 0x1afecf\n[0x5634ce75609a]    PyObject_Call                                      + 0x3a\n[0x5634ce7faf1c]    PyEval_EvalFrameEx                                 + 0x2acc\n[0x5634ce7fd660]    PyEval_EvalFrameEx                                 + 0x5210\n[0x5634ce7f8f00]    PyEval_EvalFrameEx                                 + 0xab0\n[0x5634ce80344d]    PyEval_EvalCodeEx                                  + 0x20d\n[0x5634ce804ecf]                                                       + 0x1afecf\n[0x5634ce75609a]    PyObject_Call                                      + 0x3a\n[0x5634ce7faf1c]    PyEval_EvalFrameEx                                 + 0x2acc\n[0x5634ce7fdccf]    PyEval_EvalFrameEx                                 + 0x587f\n[0x5634ce7f8f00]    PyEval_EvalFrameEx                                 + 0xab0\n[0x5634ce7fdccf]    PyEval_EvalFrameEx                                 + 0x587f\n[0x5634ce7f8f00]    PyEval_EvalFrameEx                                 + 0xab0\n[0x5634ce7fd660]    PyEval_EvalFrameEx                                 + 0x5210\n[0x5634ce80344d]    PyEval_EvalCodeEx                                  + 0x20d\n[0x5634ce80436c]    PyEval_EvalCode                                    + 0x1c\n[0x5634ce860b7c]                                                       + 0x20bb7c\n[0x5634ce7a1e0b]    PyCFunction_Call                                   + 0x4b\n[0x5634ce7f884c]    PyEval_EvalFrameEx                                 + 0x3fc\n[0x5634ce7fd660]    PyEval_EvalFrameEx                                 + 0x5210\n[0x5634ce80344d]    PyEval_EvalCodeEx                                  + 0x20d\n[0x5634ce804d69]                                                       + 0x1afd69\n[0x5634ce75609a]    PyObject_Call                                      + 0x3a\n[0x5634ce851287]                                                       + 0x1fc287\n[0x5634ce861497]    Py_Main                                            + 0x317\n[0x5634ce72d2a1]    main                                               + 0xe1\n[0x7ff741420830]    __libc_start_main                                  + 0xf0\n[0x5634ce805d18]                                                       + 0x1b0d18\n"
     ]
    }
   ],
   "source": [
    "model_5, fitting_log_5, test_deviation_5 = run_model(train_X, train_Y, test_X, test_Y, 5, epochs=1000)"
   ]
  },
  {
   "cell_type": "code",
   "execution_count": null,
   "metadata": {
    "colab": {
     "autoexec": {
      "startup": false,
      "wait_interval": 0
     },
     "base_uri": "https://localhost:8080/",
     "height": 617
    },
    "colab_type": "code",
    "executionInfo": {
     "elapsed": 2397,
     "status": "ok",
     "timestamp": 1532455806334,
     "user": {
      "displayName": "Jeffrey Norton",
      "photoUrl": "https://lh3.googleusercontent.com/a/default-user=s128",
      "userId": "105168130564860049225"
     },
     "user_tz": 420
    },
    "id": "heRdhd7cl-Yf",
    "outputId": "ea43cff8-8cf2-4777-ac77-b03db8c4d873"
   },
   "outputs": [],
   "source": [
    "output_results(model_5, fitting_log_5, test_deviation_5)"
   ]
  },
  {
   "cell_type": "markdown",
   "metadata": {
    "colab_type": "text",
    "id": "AozQPrfn_t6f"
   },
   "source": [
    "What happens with a hidden layer with 100 nodes?"
   ]
  },
  {
   "cell_type": "code",
   "execution_count": null,
   "metadata": {
    "colab": {
     "autoexec": {
      "startup": false,
      "wait_interval": 0
     }
    },
    "colab_type": "code",
    "id": "efwdkp9EmNoM"
   },
   "outputs": [],
   "source": [
    "model_100, fitting_log_100, test_deviation_100 = run_model(train_X, train_Y, test_X, test_Y, 100, epochs=500)"
   ]
  },
  {
   "cell_type": "code",
   "execution_count": null,
   "metadata": {
    "colab": {
     "autoexec": {
      "startup": false,
      "wait_interval": 0
     },
     "base_uri": "https://localhost:8080/",
     "height": 617
    },
    "colab_type": "code",
    "executionInfo": {
     "elapsed": 842,
     "status": "ok",
     "timestamp": 1532455810551,
     "user": {
      "displayName": "Jeffrey Norton",
      "photoUrl": "https://lh3.googleusercontent.com/a/default-user=s128",
      "userId": "105168130564860049225"
     },
     "user_tz": 420
    },
    "id": "GuSkG76jmZkZ",
    "outputId": "0d4f5250-bf94-439f-83d7-34bd3bb47d5a"
   },
   "outputs": [],
   "source": [
    "output_results(model_100, fitting_log_100, test_deviation_100)"
   ]
  },
  {
   "cell_type": "markdown",
   "metadata": {
    "colab_type": "text",
    "id": "nonn0TnV_5mP"
   },
   "source": [
    "That is very good - both the training and testing metrics are less than the other versions we tried."
   ]
  },
  {
   "cell_type": "code",
   "execution_count": null,
   "metadata": {
    "colab": {
     "autoexec": {
      "startup": false,
      "wait_interval": 0
     },
     "base_uri": "https://localhost:8080/",
     "height": 113
    },
    "colab_type": "code",
    "executionInfo": {
     "elapsed": 812,
     "status": "ok",
     "timestamp": 1532455811425,
     "user": {
      "displayName": "Jeffrey Norton",
      "photoUrl": "https://lh3.googleusercontent.com/a/default-user=s128",
      "userId": "105168130564860049225"
     },
     "user_tz": 420
    },
    "id": "J69a-FKDHyyq",
    "outputId": "e0a33a31-5637-4d85-c772-f87aac0d25f1"
   },
   "outputs": [],
   "source": [
    "px0, pxf = -2.0 - stepsize/3, 12 + stepsize/3\n",
    "predict_X = np.arange(px0, pxf, stepsize)\n",
    "predict_Y = model_100.predict(predict_X)\n",
    "\n",
    "# Set up the figure\n",
    "f, ax = plt.subplots(figsize=(8, 8))\n",
    "ax.set_aspect(\"equal\")\n",
    "\n",
    "# Draw a density plot for the prediction\n",
    "ax = sns.regplot(x=predict_X, y=predict_Y, fit_reg=False, color='green')"
   ]
  },
  {
   "cell_type": "markdown",
   "metadata": {
    "colab_type": "text",
    "id": "s2p4sMkMLtBs"
   },
   "source": [
    "This is not unexpected actually.  This is a mathematic decay which to some extent reflects the underlying mathematics.  Extrapolation won't work for these fits.  The predictions must be kept in the range of testing and training.  So let's just extend the periods - both for training and testing."
   ]
  }
 ],
 "metadata": {
  "colab": {
   "collapsed_sections": [],
   "default_view": {},
   "name": "RadialBasisFunctionNetwork.ipynb",
   "provenance": [],
   "version": "0.3.2",
   "views": {}
  },
  "kernelspec": {
   "display_name": "Python 3",
   "language": "python",
   "name": "python3"
  },
  "language_info": {
   "codemirror_mode": {
    "name": "ipython",
    "version": 3
   },
   "file_extension": ".py",
   "mimetype": "text/x-python",
   "name": "python",
   "nbconvert_exporter": "python",
   "pygments_lexer": "ipython3",
   "version": "3.5.4"
  }
 },
 "nbformat": 4,
 "nbformat_minor": 1
}
