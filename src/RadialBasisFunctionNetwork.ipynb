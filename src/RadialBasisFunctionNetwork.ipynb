{
 "cells": [
  {
   "cell_type": "markdown",
   "metadata": {
    "colab_type": "text",
    "id": "ywTsFTgFYPB1"
   },
   "source": [
    "# Radial Basis Functions and Feed Forward Networks\n",
    "\n",
    "Radial basis function networks are *not* feed forward networks.  Feed forward networks are typically used for classification whereas radial bases function networks are used for *fitting* contiguous functions.\n",
    "\n",
    "In the case shown here, we will generate curve fits for functions."
   ]
  },
  {
   "cell_type": "code",
   "execution_count": 1,
   "metadata": {
    "collapsed": false
   },
   "outputs": [
    {
     "name": "stdout",
     "output_type": "stream",
     "text": [
      "Requirement already up-to-date: pip in /opt/conda/lib/python3.5/site-packages (18.0)\r\n"
     ]
    }
   ],
   "source": [
    "!pip install --upgrade pip"
   ]
  },
  {
   "cell_type": "code",
   "execution_count": 2,
   "metadata": {
    "collapsed": false
   },
   "outputs": [
    {
     "name": "stdout",
     "output_type": "stream",
     "text": [
      "Requirement already up-to-date: keras in /opt/conda/lib/python3.5/site-packages (2.2.0)\n",
      "Requirement already satisfied, skipping upgrade: scipy>=0.14 in /opt/conda/lib/python3.5/site-packages (from keras) (1.1.0)\n",
      "Requirement already satisfied, skipping upgrade: pyyaml in /opt/conda/lib/python3.5/site-packages (from keras) (3.13)\n",
      "Requirement already satisfied, skipping upgrade: numpy>=1.9.1 in /opt/conda/lib/python3.5/site-packages (from keras) (1.15.0)\n",
      "Requirement already satisfied, skipping upgrade: h5py in /opt/conda/lib/python3.5/site-packages (from keras) (2.8.0)\n",
      "Requirement already satisfied, skipping upgrade: six>=1.9.0 in /opt/conda/lib/python3.5/site-packages (from keras) (1.11.0)\n",
      "Requirement already satisfied, skipping upgrade: keras-preprocessing==1.0.1 in /opt/conda/lib/python3.5/site-packages (from keras) (1.0.1)\n",
      "Requirement already satisfied, skipping upgrade: keras-applications==1.0.2 in /opt/conda/lib/python3.5/site-packages (from keras) (1.0.2)\n"
     ]
    }
   ],
   "source": [
    "!pip install -U keras"
   ]
  },
  {
   "cell_type": "code",
   "execution_count": 3,
   "metadata": {
    "collapsed": false
   },
   "outputs": [
    {
     "name": "stdout",
     "output_type": "stream",
     "text": [
      "Requirement already up-to-date: theano in /opt/conda/lib/python3.5/site-packages (1.0.2)\n",
      "Requirement already satisfied, skipping upgrade: six>=1.9.0 in /opt/conda/lib/python3.5/site-packages (from theano) (1.11.0)\n",
      "Requirement already satisfied, skipping upgrade: numpy>=1.9.1 in /opt/conda/lib/python3.5/site-packages (from theano) (1.15.0)\n",
      "Requirement already satisfied, skipping upgrade: scipy>=0.14 in /opt/conda/lib/python3.5/site-packages (from theano) (1.1.0)\n"
     ]
    }
   ],
   "source": [
    "!pip install -U theano"
   ]
  },
  {
   "cell_type": "code",
   "execution_count": 4,
   "metadata": {
    "collapsed": false
   },
   "outputs": [
    {
     "name": "stdout",
     "output_type": "stream",
     "text": [
      "Requirement already up-to-date: numpy in /opt/conda/lib/python3.5/site-packages (1.15.0)\r\n"
     ]
    }
   ],
   "source": [
    "!pip install -U numpy"
   ]
  },
  {
   "cell_type": "code",
   "execution_count": 5,
   "metadata": {
    "collapsed": false
   },
   "outputs": [
    {
     "name": "stderr",
     "output_type": "stream",
     "text": [
      "/opt/conda/lib/python3.5/importlib/_bootstrap.py:222: RuntimeWarning: numpy.dtype size changed, may indicate binary incompatibility. Expected 96, got 88\n",
      "  return f(*args, **kwds)\n",
      "/opt/conda/lib/python3.5/importlib/_bootstrap.py:222: RuntimeWarning: numpy.dtype size changed, may indicate binary incompatibility. Expected 96, got 88\n",
      "  return f(*args, **kwds)\n"
     ]
    }
   ],
   "source": [
    "import math, os\n",
    "import pandas as pd\n",
    "import numpy as np\n",
    "import seaborn as sns\n",
    "import matplotlib.pyplot as plt\n",
    "\n",
    "from IPython.display import SVG\n",
    "\n",
    "os.environ['KERAS_BACKEND'] = 'theano'"
   ]
  },
  {
   "cell_type": "code",
   "execution_count": 6,
   "metadata": {
    "colab": {
     "autoexec": {
      "startup": false,
      "wait_interval": 0
     },
     "base_uri": "https://localhost:8080/",
     "height": 34
    },
    "colab_type": "code",
    "collapsed": false,
    "executionInfo": {
     "elapsed": 1205,
     "status": "ok",
     "timestamp": 1532409709604,
     "user": {
      "displayName": "Jeffrey Norton",
      "photoUrl": "https://lh3.googleusercontent.com/a/default-user=s128",
      "userId": "105168130564860049225"
     },
     "user_tz": 420
    },
    "id": "4onk9aCJQg-6",
    "outputId": "2a828d42-bce1-4146-9df3-bc9dd857d673"
   },
   "outputs": [
    {
     "name": "stderr",
     "output_type": "stream",
     "text": [
      "/opt/conda/lib/python3.5/importlib/_bootstrap.py:222: RuntimeWarning: numpy.dtype size changed, may indicate binary incompatibility. Expected 96, got 88\n",
      "  return f(*args, **kwds)\n",
      "Using Theano backend.\n",
      "WARNING (theano.configdefaults): install mkl with `conda install mkl-service`: No module named 'mkl'\n",
      "/opt/conda/lib/python3.5/importlib/_bootstrap.py:222: RuntimeWarning: numpy.dtype size changed, may indicate binary incompatibility. Expected 96, got 88\n",
      "  return f(*args, **kwds)\n"
     ]
    }
   ],
   "source": [
    "import keras\n",
    "from keras.models import Sequential\n",
    "from keras.layers import Dense, Activation\n",
    "from keras import backend as K\n",
    "from keras.utils.generic_utils import get_custom_objects\n"
   ]
  },
  {
   "cell_type": "markdown",
   "metadata": {
    "colab_type": "text",
    "id": "UVeqHlqOktK6"
   },
   "source": [
    "RBFs are really designed to work with continuous functions.  So one problem to consider is fitting (continuous) datasets.  For simplicity - we can simply just generate a dataset using some curve function like sin.  What's nice about using a real function is that we can generate what should be other data points with ease and test concepts like forcasting (predicting out of the original training range)."
   ]
  },
  {
   "cell_type": "code",
   "execution_count": 7,
   "metadata": {
    "colab": {
     "autoexec": {
      "startup": false,
      "wait_interval": 0
     }
    },
    "colab_type": "code",
    "collapsed": true,
    "id": "o90uTfDARds3"
   },
   "outputs": [],
   "source": [
    "# Generate a data set from the function sin(2*pi*t)\n",
    "# Take the test set to be from -1 to 1 on 0.1\n",
    "ptrain_X = np.arange(-1.0, 1.0, 0.05)\n",
    "ptrain_Y = np.sin(2*math.pi*ptrain_X)\n",
    "\n",
    "# And for validation, let's create a somewhat overlapping\n",
    "# dataset, but are going to let this dataset range go to 2.\n",
    "ptest_X = np.arange(0.025, 2.025, 0.05)\n",
    "ptest_Y = np.sin(2*math.pi*ptest_X)"
   ]
  },
  {
   "cell_type": "code",
   "execution_count": 8,
   "metadata": {
    "colab": {
     "autoexec": {
      "startup": false,
      "wait_interval": 0
     },
     "base_uri": "https://localhost:8080/",
     "height": 348
    },
    "colab_type": "code",
    "collapsed": false,
    "executionInfo": {
     "elapsed": 313,
     "status": "ok",
     "timestamp": 1532409717432,
     "user": {
      "displayName": "Jeffrey Norton",
      "photoUrl": "https://lh3.googleusercontent.com/a/default-user=s128",
      "userId": "105168130564860049225"
     },
     "user_tz": 420
    },
    "id": "ifCK1BHqSWZ9",
    "outputId": "9a7c4bd8-0e66-4591-cf18-9c42b1e3ca4b"
   },
   "outputs": [],
   "source": [
    "sns.set(style=\"darkgrid\")\n",
    "\n",
    "# Set up the figure\n",
    "f, ax = plt.subplots(figsize=(8, 8))\n",
    "ax.set_aspect(\"equal\")\n",
    "\n",
    "# Draw the two density plots\n",
    "ax = sns.regplot(x=ptrain_X, y=ptrain_Y, fit_reg=False, color='blue')\n",
    "ax = sns.regplot(x=ptest_X, y=ptest_Y, fit_reg=False, color='red')"
   ]
  },
  {
   "cell_type": "code",
   "execution_count": 9,
   "metadata": {
    "colab": {
     "autoexec": {
      "startup": false,
      "wait_interval": 0
     }
    },
    "colab_type": "code",
    "collapsed": true,
    "id": "xnJI8yK3Y93B"
   },
   "outputs": [],
   "source": [
    "# fix random seed for reproducibility\n",
    "seed = 155\n",
    "np.random.seed(seed)"
   ]
  },
  {
   "cell_type": "markdown",
   "metadata": {
    "colab_type": "text",
    "id": "OOFVn98VpZP5"
   },
   "source": [
    "Keras doesn't provide RBF layers natively.  [Petra Vidnerova](https://github.com/PetraVidnerova/rbf_keras) does provide an RBF layer - this shows how to write custom layers in Keras."
   ]
  },
  {
   "cell_type": "code",
   "execution_count": 10,
   "metadata": {
    "colab": {
     "autoexec": {
      "startup": false,
      "wait_interval": 0
     }
    },
    "colab_type": "code",
    "collapsed": true,
    "id": "es9ukPefpXXP"
   },
   "outputs": [],
   "source": [
    "from keras.initializers import Initializer\n",
    "import numpy as np \n",
    "\n",
    "class InitFromFile(Initializer):\n",
    "    \"\"\" Initialize the weights by loading from file.\n",
    "    # Arguments\n",
    "        filename: name of file, should by .npy file \n",
    "    \"\"\"\n",
    "    def __init__(self, filename):\n",
    "        self.filename = filename \n",
    "\n",
    "    def __call__(self, shape, dtype=None):\n",
    "        with open(self.filename, \"rb\") as f:\n",
    "            X = np.load(f)\n",
    "        assert shape == X.shape \n",
    "        return X \n",
    "\n",
    "    def get_config(self):\n",
    "        return {\n",
    "            'filename': self.filename\n",
    "        }"
   ]
  },
  {
   "cell_type": "code",
   "execution_count": 11,
   "metadata": {
    "colab": {
     "autoexec": {
      "startup": false,
      "wait_interval": 0
     }
    },
    "colab_type": "code",
    "collapsed": true,
    "id": "mlgadc4ep8F5"
   },
   "outputs": [],
   "source": [
    "import random \n",
    "from keras import backend as K\n",
    "from keras.engine.topology import Layer\n",
    "from keras.initializers import RandomUniform, Initializer, Orthogonal, Constant\n",
    "import numpy as np\n",
    "\n",
    "class InitCentersRandom(Initializer):\n",
    "    \"\"\" Initializer for initialization of centers of RBF network\n",
    "        as random samples from the given data set.\n",
    "    # Arguments\n",
    "        X: matrix, dataset to choose the centers from (random rows \n",
    "          are taken as centers)\n",
    "    \"\"\"\n",
    "    def __init__(self, X):\n",
    "        self.X = X \n",
    "\n",
    "    def __call__(self, shape, dtype=None):\n",
    "        assert shape[1] == self.X.shape[1]\n",
    "        idx = np.random.randint(self.X.shape[0], size=shape[0])\n",
    "        return self.X[idx,:]\n",
    "\n",
    "        \n",
    "class RBFLayer(Layer):\n",
    "    \"\"\" Layer of Gaussian RBF units. \n",
    "    # Example\n",
    " \n",
    "    ```python\n",
    "        model = Sequential()\n",
    "        model.add(RBFLayer(10,\n",
    "                           initializer=InitCentersRandom(X), \n",
    "                           betas=1.0,\n",
    "                           input_shape=(1,)))\n",
    "        model.add(Dense(1))\n",
    "    ```\n",
    "    \n",
    "    # Arguments\n",
    "        output_dim: number of hidden units (i.e. number of outputs of the layer)\n",
    "        initializer: instance of initiliazer to initialize centers\n",
    "        betas: float, initial value for betas \n",
    "    \"\"\"\n",
    "    def __init__(self, output_dim, initializer=None, betas=1.0, **kwargs):\n",
    "        self.output_dim = output_dim\n",
    "        self.init_betas = betas \n",
    "        if not initializer:\n",
    "            self.initializer = RandomUniform(0.0, 1.0)\n",
    "            #self.initializer = Orthogonal()\n",
    "        else:\n",
    "            self.initializer = initializer \n",
    "        super(RBFLayer, self).__init__(**kwargs)\n",
    "\n",
    "    def build(self, input_shape):\n",
    "        \n",
    "        self.centers = self.add_weight(name='centers', \n",
    "                                       shape=(self.output_dim, input_shape[1]),\n",
    "                                       initializer=self.initializer,\n",
    "                                       trainable=True)\n",
    "        self.betas = self.add_weight(name='betas',\n",
    "                                     shape=(self.output_dim,),\n",
    "                                     initializer=Constant(value=self.init_betas),\n",
    "                                     #initializer='ones',\n",
    "                                     trainable=True)\n",
    "            \n",
    "        super(RBFLayer, self).build(input_shape)  \n",
    "\n",
    "    def call(self, x):\n",
    "\n",
    "        C = K.expand_dims(self.centers)\n",
    "        H = K.transpose(C-K.transpose(x))\n",
    "        return K.exp( -self.betas * K.sum(H**2, axis=1))\n",
    "        \n",
    "        #C = self.centers[np.newaxis, :, :]\n",
    "        #X = x[:, np.newaxis, :]\n",
    "\n",
    "        #diffnorm = K.sum((C-X)**2, axis=-1)\n",
    "        #ret = K.exp( - self.betas * diffnorm)\n",
    "        #return ret \n",
    "\n",
    "    def compute_output_shape(self, input_shape):\n",
    "        return (input_shape[0], self.output_dim)\n",
    "\n",
    "\n",
    "    def get_config(self):\n",
    "        # have to define get_config to be able to use model_from_json\n",
    "        config = {\n",
    "            'output_dim': self.output_dim\n",
    "        }\n",
    "        base_config = super(RBFLayer, self).get_config()\n",
    "        return dict(list(base_config.items()) + list(config.items()))"
   ]
  },
  {
   "cell_type": "markdown",
   "metadata": {
    "colab_type": "text",
    "id": "kJz4VQ2L-ARQ"
   },
   "source": [
    "End of Petra's code.\n",
    "\n",
    "Similar to our feed forward case, we write some helper functions.  First ```run_model``` will create a RBFN and fit it and calculate the fitting metrics (RMSE)."
   ]
  },
  {
   "cell_type": "code",
   "execution_count": 12,
   "metadata": {
    "colab": {
     "autoexec": {
      "startup": false,
      "wait_interval": 0
     }
    },
    "colab_type": "code",
    "collapsed": true,
    "id": "Vr8bkC95idg5"
   },
   "outputs": [],
   "source": [
    "def run_model(X_train, Y_train, X_test, Y_test, hidden_layer_size, epochs=1000):\n",
    "    np.random.seed(seed)\n",
    "    model = Sequential() # create model\n",
    "    \n",
    "    # Create an RBF hidden layer - this uses the Gaussian as the closeness function.\n",
    "    model.add(RBFLayer(hidden_layer_size,\n",
    "                       initializer=InitCentersRandom(X_train), \n",
    "                       betas=2.0,\n",
    "                       input_shape=(1,))) # hidden layer\n",
    "    \n",
    "    model.add(Dense(1)) # output layer\n",
    "    # Default learning rate is 0.001.  For this problem, we can get very aggressive\n",
    "    # on the learning rate.\n",
    "    adamo = keras.optimizers.Adam(lr=0.01)\n",
    "    \n",
    "    # For regression (which this is closest to), use RMSE, not cross-entropy.\n",
    "    model.compile(loss='mean_squared_error',optimizer=adamo)\n",
    "    \n",
    "    # Fit the model\n",
    "    # verbose=0 suppresses the file writing message\n",
    "    # note that the fit method expects a list of callbacks\n",
    "    fitting_log={'loss':[], 'acc':[]}\n",
    "    \n",
    "    # Fit in a loop so we can track the test accuracy as we go.\n",
    "    for i in range(epochs):\n",
    "        results = model.fit(X_train, Y_train,epochs=1, verbose=0, batch_size=X_train.shape[0],\n",
    "                            initial_epoch=0)\n",
    "        fitting_log['loss'].append(results.history['loss'][0])\n",
    "        y_pred = model.predict(X_train)\n",
    "        sum = 0.0\n",
    "        for i in range(len(Y_train)):\n",
    "            sum += math.pow(Y_train[i]-y_pred[i],2)\n",
    "        fitting_log['acc'].append(math.sqrt(sum))\n",
    "        \n",
    "    # Evaluate the model on the test case to see how we did.\n",
    "    y_tpred = model.predict(X_test)\n",
    "    sum = 0.0\n",
    "    for i in range(len(Y_test)):\n",
    "        sum += math.pow(Y_test[i]-y_tpred[i],2)\n",
    "  \n",
    "    return model, fitting_log, math.sqrt(sum)"
   ]
  },
  {
   "cell_type": "markdown",
   "metadata": {
    "colab_type": "text",
    "id": "qj7ggvVDkD_1"
   },
   "source": [
    "Plotter of loss and accuracy."
   ]
  },
  {
   "cell_type": "code",
   "execution_count": 13,
   "metadata": {
    "colab": {
     "autoexec": {
      "startup": false,
      "wait_interval": 0
     }
    },
    "colab_type": "code",
    "collapsed": true,
    "id": "dCVnhe3Jis8m"
   },
   "outputs": [],
   "source": [
    "def plot_nn(fitted_log):\n",
    "    fig, (ax1, ax2) = plt.subplots(2, 1)\n",
    "    ax1.plot(range(len(fitted_log['loss'])), fitted_log['loss'],linestyle='-', color='blue',label='Training', lw=2)\n",
    "    ax2.plot(range(len(fitted_log['acc'])), fitted_log['acc'],linestyle='-', color='blue',label='Training', lw=2)\n",
    "    leg = ax1.legend(bbox_to_anchor=(0.7, 0.9), loc=2, borderaxespad=0.,fontsize=13)\n",
    "    ax1.set_xticklabels('')\n",
    "    #ax1.set_yscale('log')\n",
    "    ax2.set_xlabel('# Epochs',fontsize=14)\n",
    "    ax1.set_ylabel('Loss',fontsize=14)\n",
    "    ax2.set_ylabel('Accuracy',fontsize=14)\n",
    "    plt.show()"
   ]
  },
  {
   "cell_type": "markdown",
   "metadata": {
    "colab_type": "text",
    "id": "F1afMNwr_IZG"
   },
   "source": [
    "Generates the output results."
   ]
  },
  {
   "cell_type": "code",
   "execution_count": 14,
   "metadata": {
    "colab": {
     "autoexec": {
      "startup": false,
      "wait_interval": 0
     }
    },
    "colab_type": "code",
    "collapsed": true,
    "id": "9GtYUEsUjPBa"
   },
   "outputs": [],
   "source": [
    "def output_results(model, fitting_log, test_deviation):\n",
    "    # Print a summary of the model\n",
    "    print(model.summary())\n",
    "    # Print the fitting log\n",
    "    nepochs = len(fitting_log['loss'])\n",
    "    print('Training loss, accuracy:', [fitting_log['loss'][nepochs-2:nepochs-1], fitting_log['acc'][nepochs-2:nepochs-1]])\n",
    "    plot_nn(fitting_log)\n",
    "    print('Test set metric (RMSE): {}'.format(test_deviation))"
   ]
  },
  {
   "cell_type": "markdown",
   "metadata": {
    "colab_type": "text",
    "id": "p0e8Njix_M5N"
   },
   "source": [
    "Properly shape the data."
   ]
  },
  {
   "cell_type": "code",
   "execution_count": 15,
   "metadata": {
    "colab": {
     "autoexec": {
      "startup": false,
      "wait_interval": 0
     }
    },
    "colab_type": "code",
    "collapsed": true,
    "id": "d6eSaifOn89n"
   },
   "outputs": [],
   "source": [
    "train_X = np.transpose(np.reshape(ptrain_X, (1,-1)))\n",
    "train_Y = np.transpose(np.reshape(ptrain_Y, (1,-1)))\n",
    "test_X = np.transpose(np.reshape(ptest_X, (1,-1)))\n",
    "test_Y = np.transpose(np.reshape(ptest_Y, (1,-1)))"
   ]
  },
  {
   "cell_type": "markdown",
   "metadata": {
    "colab_type": "text",
    "id": "-S5H4kDQ_RNz"
   },
   "source": [
    "Try a hidden layer with only five nodes."
   ]
  },
  {
   "cell_type": "code",
   "execution_count": 16,
   "metadata": {
    "colab": {
     "autoexec": {
      "startup": false,
      "wait_interval": 0
     }
    },
    "colab_type": "code",
    "collapsed": false,
    "id": "j-Tn0yjIj2IA"
   },
   "outputs": [
    {
     "name": "stderr",
     "output_type": "stream",
     "text": [
      "WARNING (theano.tensor.blas): We did not find a dynamic library in the library_dir of the library we use for blas. If you use ATLAS, make sure to compile it with dynamics library.\n"
     ]
    }
   ],
   "source": [
    "model_5, fitting_log_5, test_deviation_5 = run_model(train_X, train_Y, test_X, test_Y, 5, epochs=1000)"
   ]
  },
  {
   "cell_type": "code",
   "execution_count": 17,
   "metadata": {
    "colab": {
     "autoexec": {
      "startup": false,
      "wait_interval": 0
     },
     "base_uri": "https://localhost:8080/",
     "height": 600
    },
    "colab_type": "code",
    "collapsed": false,
    "executionInfo": {
     "elapsed": 663,
     "status": "ok",
     "timestamp": 1532409612934,
     "user": {
      "displayName": "Jeffrey Norton",
      "photoUrl": "https://lh3.googleusercontent.com/a/default-user=s128",
      "userId": "105168130564860049225"
     },
     "user_tz": 420
    },
    "id": "heRdhd7cl-Yf",
    "outputId": "182ed69c-cc0a-41a0-ec72-7623491a6d88"
   },
   "outputs": [
    {
     "name": "stdout",
     "output_type": "stream",
     "text": [
      "_________________________________________________________________\n",
      "Layer (type)                 Output Shape              Param #   \n",
      "=================================================================\n",
      "rbf_layer_1 (RBFLayer)       (None, 5)                 10        \n",
      "_________________________________________________________________\n",
      "dense_1 (Dense)              (None, 1)                 6         \n",
      "=================================================================\n",
      "Total params: 16\n",
      "Trainable params: 16\n",
      "Non-trainable params: 0\n",
      "_________________________________________________________________\n",
      "None\n",
      "Training loss, accuracy: [[0.008861074224114418], [0.5951982595425719]]\n"
     ]
    },
    {
     "data": {
      "image/png": "[encoded data removed]",
      "text/plain": [
       "<matplotlib.figure.Figure at 0x7f0e689a3ef0>"
      ]
     },
     "metadata": {},
     "output_type": "display_data"
    },
    {
     "data": {
      "image/png": "[encoded data removed]",
      "text/plain": [
       "<matplotlib.figure.Figure at 0x7f0e42597438>"
      ]
     },
     "metadata": {},
     "output_type": "display_data"
    },
    {
     "name": "stdout",
     "output_type": "stream",
     "text": [
      "Test set metric (RMSE): 3.6847496164680136\n"
     ]
    }
   ],
   "source": [
    "output_results(model_5, fitting_log_5, test_deviation_5)"
   ]
  },
  {
   "cell_type": "markdown",
   "metadata": {
    "colab_type": "text",
    "id": "AozQPrfn_t6f"
   },
   "source": [
    "What happens with a hidden layer with 100 nodes?"
   ]
  },
  {
   "cell_type": "code",
   "execution_count": 18,
   "metadata": {
    "colab": {
     "autoexec": {
      "startup": false,
      "wait_interval": 0
     }
    },
    "colab_type": "code",
    "collapsed": true,
    "id": "efwdkp9EmNoM"
   },
   "outputs": [],
   "source": [
    "model_100, fitting_log_100, test_deviation_100 = run_model(train_X, train_Y, test_X, test_Y, 100, epochs=1000)"
   ]
  },
  {
   "cell_type": "code",
   "execution_count": 19,
   "metadata": {
    "colab": {
     "autoexec": {
      "startup": false,
      "wait_interval": 0
     },
     "base_uri": "https://localhost:8080/",
     "height": 600
    },
    "colab_type": "code",
    "collapsed": false,
    "executionInfo": {
     "elapsed": 742,
     "status": "ok",
     "timestamp": 1532410981302,
     "user": {
      "displayName": "Jeffrey Norton",
      "photoUrl": "https://lh3.googleusercontent.com/a/default-user=s128",
      "userId": "105168130564860049225"
     },
     "user_tz": 420
    },
    "id": "GuSkG76jmZkZ",
    "outputId": "1a8e193f-f9e8-4a83-cd7d-425f61fdd3de"
   },
   "outputs": [
    {
     "name": "stdout",
     "output_type": "stream",
     "text": [
      "_________________________________________________________________\n",
      "Layer (type)                 Output Shape              Param #   \n",
      "=================================================================\n",
      "rbf_layer_2 (RBFLayer)       (None, 100)               200       \n",
      "_________________________________________________________________\n",
      "dense_2 (Dense)              (None, 1)                 101       \n",
      "=================================================================\n",
      "Total params: 301\n",
      "Trainable params: 301\n",
      "Non-trainable params: 0\n",
      "_________________________________________________________________\n",
      "None\n",
      "Training loss, accuracy: [[7.375045970547944e-05], [0.0541960952545998]]\n"
     ]
    },
    {
     "data": {
      "image/png": "[encoded data removed]",
      "text/plain": [
       "<matplotlib.figure.Figure at 0x7f0e288c5a90>"
      ]
     },
     "metadata": {},
     "output_type": "display_data"
    },
    {
     "name": "stdout",
     "output_type": "stream",
     "text": [
      "Test set metric (RMSE): 5.604704992348682\n"
     ]
    }
   ],
   "source": [
    "output_results(model_100, fitting_log_100, test_deviation_100)"
   ]
  },
  {
   "cell_type": "markdown",
   "metadata": {
    "colab_type": "text",
    "id": "L3o-1jhU8Oc7"
   },
   "source": [
    "As the test metric is going up from the previous example with 5 nodes - we strongly suspect overfitting.  Try somewhere between 5 and 100 nodes on the hidden layer."
   ]
  },
  {
   "cell_type": "code",
   "execution_count": 20,
   "metadata": {
    "colab": {
     "autoexec": {
      "startup": false,
      "wait_interval": 0
     }
    },
    "colab_type": "code",
    "collapsed": true,
    "id": "B8aADdPi86zi"
   },
   "outputs": [],
   "source": [
    "model_50, fitting_log_50, test_deviation_50 = run_model(train_X, train_Y, test_X, test_Y, 50, epochs=1000)"
   ]
  },
  {
   "cell_type": "code",
   "execution_count": 21,
   "metadata": {
    "colab": {
     "autoexec": {
      "startup": false,
      "wait_interval": 0
     },
     "base_uri": "https://localhost:8080/",
     "height": 600
    },
    "colab_type": "code",
    "collapsed": false,
    "executionInfo": {
     "elapsed": 458,
     "status": "ok",
     "timestamp": 1532410986909,
     "user": {
      "displayName": "Jeffrey Norton",
      "photoUrl": "https://lh3.googleusercontent.com/a/default-user=s128",
      "userId": "105168130564860049225"
     },
     "user_tz": 420
    },
    "id": "XOsTB2mQ86zn",
    "outputId": "7060cf89-78be-4bb2-9b06-b0d7b78e4054"
   },
   "outputs": [
    {
     "name": "stdout",
     "output_type": "stream",
     "text": [
      "_________________________________________________________________\n",
      "Layer (type)                 Output Shape              Param #   \n",
      "=================================================================\n",
      "rbf_layer_3 (RBFLayer)       (None, 50)                100       \n",
      "_________________________________________________________________\n",
      "dense_3 (Dense)              (None, 1)                 51        \n",
      "=================================================================\n",
      "Total params: 151\n",
      "Trainable params: 151\n",
      "Non-trainable params: 0\n",
      "_________________________________________________________________\n",
      "None\n",
      "Training loss, accuracy: [[0.00019738846458494663], [0.08866593060242824]]\n"
     ]
    },
    {
     "data": {
      "image/png": "[encoded data removed]",
      "text/plain": [
       "<matplotlib.figure.Figure at 0x7f0e28608c18>"
      ]
     },
     "metadata": {},
     "output_type": "display_data"
    },
    {
     "name": "stdout",
     "output_type": "stream",
     "text": [
      "Test set metric (RMSE): 3.8362511618949884\n"
     ]
    }
   ],
   "source": [
    "output_results(model_50, fitting_log_50, test_deviation_50)"
   ]
  },
  {
   "cell_type": "markdown",
   "metadata": {
    "colab_type": "text",
    "id": "nonn0TnV_5mP"
   },
   "source": [
    "That is very good - both the training and testing metrics are less than the other versions we tried."
   ]
  },
  {
   "cell_type": "code",
   "execution_count": 22,
   "metadata": {
    "colab": {
     "autoexec": {
      "startup": false,
      "wait_interval": 0
     },
     "base_uri": "https://localhost:8080/",
     "height": 267
    },
    "colab_type": "code",
    "collapsed": false,
    "executionInfo": {
     "elapsed": 499,
     "status": "ok",
     "timestamp": 1532410990333,
     "user": {
      "displayName": "Jeffrey Norton",
      "photoUrl": "https://lh3.googleusercontent.com/a/default-user=s128",
      "userId": "105168130564860049225"
     },
     "user_tz": 420
    },
    "id": "J69a-FKDHyyq",
    "outputId": "6e21308a-c5c3-4896-f1e1-b363686fb8b3"
   },
   "outputs": [],
   "source": [
    "predict_X = np.arange(0.025, 4.025, 0.05)\n",
    "predict_Y = model_50.predict(predict_X)\n",
    "\n",
    "# Set up the figure\n",
    "f, ax = plt.subplots(figsize=(8, 8))\n",
    "ax.set_aspect(\"equal\")\n",
    "\n",
    "# Draw a density plot for the prediction\n",
    "ax = sns.regplot(x=predict_X, y=predict_Y, fit_reg=False, color='green')"
   ]
  },
  {
   "cell_type": "markdown",
   "metadata": {
    "colab_type": "text",
    "id": "s2p4sMkMLtBs"
   },
   "source": [
    "This is not unexpected actually.  This is a mathematic decay which to some extent reflects the underlying mathematics.  Extrapolation won't work for these fits.  The predictions must be kept in the range of testing and training.  So let's just extend the periods - both for training and testing."
   ]
  },
  {
   "cell_type": "code",
   "execution_count": 23,
   "metadata": {
    "collapsed": false
   },
   "outputs": [
    {
     "name": "stdout",
     "output_type": "stream",
     "text": [
      "[[ 1.50728092e-01]\n",
      " [ 4.50222075e-01]\n",
      " [ 7.07176387e-01]\n",
      " [ 8.95839632e-01]\n",
      " [ 9.96619642e-01]\n",
      " [ 9.98317420e-01]\n",
      " [ 8.99707735e-01]\n",
      " [ 7.10132182e-01]\n",
      " [ 4.48893934e-01]\n",
      " [ 1.43342748e-01]\n",
      " [-1.74220815e-01]\n",
      " [-4.70462561e-01]\n",
      " [-7.15181470e-01]\n",
      " [-8.85059118e-01]\n",
      " [-9.66347277e-01]\n",
      " [-9.56050098e-01]\n",
      " [-8.61443162e-01]\n",
      " [-6.98118865e-01]\n",
      " [-4.87018883e-01]\n",
      " [-2.51075685e-01]\n",
      " [-1.20942369e-02]\n",
      " [ 2.11642697e-01]\n",
      " [ 4.06778157e-01]\n",
      " [ 5.65285087e-01]\n",
      " [ 6.84036374e-01]\n",
      " [ 7.63837874e-01]\n",
      " [ 8.08235705e-01]\n",
      " [ 8.22349250e-01]\n",
      " [ 8.11906159e-01]\n",
      " [ 7.82548130e-01]\n",
      " [ 7.39408553e-01]\n",
      " [ 6.86910093e-01]\n",
      " [ 6.28718197e-01]\n",
      " [ 5.67783177e-01]\n",
      " [ 5.06424427e-01]\n",
      " [ 4.46423709e-01]\n",
      " [ 3.89110416e-01]\n",
      " [ 3.35436046e-01]\n",
      " [ 2.86034107e-01]\n",
      " [ 2.41272494e-01]\n",
      " [ 2.01299325e-01]\n",
      " [ 1.66084141e-01]\n",
      " [ 1.35456428e-01]\n",
      " [ 1.09141745e-01]\n",
      " [ 8.67939293e-02]\n",
      " [ 6.80240542e-02]\n",
      " [ 5.24248853e-02]\n",
      " [ 3.95901576e-02]\n",
      " [ 2.91300099e-02]\n",
      " [ 2.06816141e-02]\n",
      " [ 1.39158387e-02]\n",
      " [ 8.54089670e-03]\n",
      " [ 4.30294964e-03]\n",
      " [ 9.85106453e-04]\n",
      " [-1.59512367e-03]\n",
      " [-3.58913466e-03]\n",
      " [-5.12094004e-03]\n",
      " [-6.29101368e-03]\n",
      " [-7.17991032e-03]\n",
      " [-7.85162859e-03]\n",
      " [-8.35660100e-03]\n",
      " [-8.73426720e-03]\n",
      " [-9.01526771e-03]\n",
      " [-9.22325812e-03]\n",
      " [-9.37639270e-03]\n",
      " [-9.48852859e-03]\n",
      " [-9.57018510e-03]\n",
      " [-9.62930731e-03]\n",
      " [-9.67186131e-03]\n",
      " [-9.70230624e-03]\n",
      " [-9.72395204e-03]\n",
      " [-9.73924343e-03]\n",
      " [-9.74997599e-03]\n",
      " [-9.75745916e-03]\n",
      " [-9.76264197e-03]\n",
      " [-9.76620615e-03]\n",
      " [-9.76864062e-03]\n",
      " [-9.77029279e-03]\n",
      " [-9.77140479e-03]\n",
      " [-9.77214798e-03]]\n"
     ]
    }
   ],
   "source": [
    "print(predict_Y)"
   ]
  },
  {
   "cell_type": "code",
   "execution_count": null,
   "metadata": {
    "collapsed": true
   },
   "outputs": [],
   "source": []
  }
 ],
 "metadata": {
  "colab": {
   "collapsed_sections": [],
   "default_view": {},
   "name": "RadialBasisFunctionNetwork.ipynb",
   "provenance": [],
   "version": "0.3.2",
   "views": {}
  },
  "kernelspec": {
   "display_name": "Python 3",
   "language": "python",
   "name": "python3"
  },
  "language_info": {
   "codemirror_mode": {
    "name": "ipython",
    "version": 3
   },
   "file_extension": ".py",
   "mimetype": "text/x-python",
   "name": "python",
   "nbconvert_exporter": "python",
   "pygments_lexer": "ipython3",
   "version": "3.5.2"
  }
 },
 "nbformat": 4,
 "nbformat_minor": 0
}
