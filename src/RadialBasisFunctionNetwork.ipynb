{
  "nbformat": 4,
  "nbformat_minor": 0,
  "metadata": {
    "colab": {
      "name": "RadialBasisFunctionNetwork.ipynb",
      "version": "0.3.2",
      "views": {},
      "default_view": {},
      "provenance": [],
      "collapsed_sections": []
    },
    "kernelspec": {
      "name": "python3",
      "display_name": "Python 3"
    }
  },
  "cells": [
    {
      "metadata": {
        "id": "ywTsFTgFYPB1",
        "colab_type": "text"
      },
      "cell_type": "markdown",
      "source": [
        "# Radial Basis Functions and Feed Forward Networks\n",
        "\n",
        "Radial basis function networks are *not* feed forward networks.  Feed forward networks are typically used for classification whereas radial bases function networks are used for *fitting* contiguous functions.\n",
        "\n",
        "## Environment Preparation\n",
        "\n",
        "Upgrade and install packages.  Add more packages as required in your environment."
      ]
    },
    {
      "metadata": {
        "id": "pxLe3WxQWrXj",
        "colab_type": "code",
        "colab": {
          "autoexec": {
            "startup": false,
            "wait_interval": 0
          },
          "base_uri": "https://localhost:8080/",
          "height": 34
        },
        "outputId": "0b8cf9c8-70c2-4efb-c931-424ce2b2a5e1",
        "executionInfo": {
          "status": "ok",
          "timestamp": 1532455739544,
          "user_tz": 420,
          "elapsed": 2513,
          "user": {
            "displayName": "Jeffrey Norton",
            "photoUrl": "https://lh3.googleusercontent.com/a/default-user=s128",
            "userId": "105168130564860049225"
          }
        }
      },
      "cell_type": "code",
      "source": [
        "!pip install --upgrade pip"
      ],
      "execution_count": 1,
      "outputs": [
        {
          "output_type": "stream",
          "text": [
            "Requirement already up-to-date: pip in /usr/local/lib/python3.6/dist-packages (18.0)\r\n"
          ],
          "name": "stdout"
        }
      ]
    },
    {
      "metadata": {
        "id": "LILhVGMZZ9cq",
        "colab_type": "text"
      },
      "cell_type": "markdown",
      "source": [
        "!pip install -U keras"
      ]
    },
    {
      "metadata": {
        "id": "ovd_vbTOacSu",
        "colab_type": "code",
        "colab": {
          "autoexec": {
            "startup": false,
            "wait_interval": 0
          },
          "base_uri": "https://localhost:8080/",
          "height": 84
        },
        "outputId": "473e15ab-9418-4d49-adbe-07b61d70026b",
        "executionInfo": {
          "status": "ok",
          "timestamp": 1532455742229,
          "user_tz": 420,
          "elapsed": 2625,
          "user": {
            "displayName": "Jeffrey Norton",
            "photoUrl": "https://lh3.googleusercontent.com/a/default-user=s128",
            "userId": "105168130564860049225"
          }
        }
      },
      "cell_type": "code",
      "source": [
        "!pip install -U theano"
      ],
      "execution_count": 2,
      "outputs": [
        {
          "output_type": "stream",
          "text": [
            "Requirement already up-to-date: theano in /usr/local/lib/python3.6/dist-packages (1.0.2)\r\n",
            "Requirement already satisfied, skipping upgrade: scipy>=0.14 in /usr/local/lib/python3.6/dist-packages (from theano) (0.19.1)\r\n",
            "Requirement already satisfied, skipping upgrade: numpy>=1.9.1 in /usr/local/lib/python3.6/dist-packages (from theano) (1.15.0)\r\n",
            "Requirement already satisfied, skipping upgrade: six>=1.9.0 in /usr/local/lib/python3.6/dist-packages (from theano) (1.11.0)\r\n"
          ],
          "name": "stdout"
        }
      ]
    },
    {
      "metadata": {
        "id": "AuYQ0RSLaeya",
        "colab_type": "code",
        "colab": {
          "autoexec": {
            "startup": false,
            "wait_interval": 0
          },
          "base_uri": "https://localhost:8080/",
          "height": 252
        },
        "outputId": "aeeef67f-3468-4a02-ef33-b667346b4eaf",
        "executionInfo": {
          "status": "ok",
          "timestamp": 1532455745211,
          "user_tz": 420,
          "elapsed": 2955,
          "user": {
            "displayName": "Jeffrey Norton",
            "photoUrl": "https://lh3.googleusercontent.com/a/default-user=s128",
            "userId": "105168130564860049225"
          }
        }
      },
      "cell_type": "code",
      "source": [
        "!pip install -U tensorflow"
      ],
      "execution_count": 3,
      "outputs": [
        {
          "output_type": "stream",
          "text": [
            "Requirement already up-to-date: tensorflow in /usr/local/lib/python3.6/dist-packages (1.9.0)\r\n",
            "Requirement already satisfied, skipping upgrade: protobuf>=3.4.0 in /usr/local/lib/python3.6/dist-packages (from tensorflow) (3.6.0)\r\n",
            "Requirement already satisfied, skipping upgrade: numpy>=1.13.3 in /usr/local/lib/python3.6/dist-packages (from tensorflow) (1.15.0)\r\n",
            "Requirement already satisfied, skipping upgrade: gast>=0.2.0 in /usr/local/lib/python3.6/dist-packages (from tensorflow) (0.2.0)\r\n",
            "Requirement already satisfied, skipping upgrade: six>=1.10.0 in /usr/local/lib/python3.6/dist-packages (from tensorflow) (1.11.0)\r\n",
            "Requirement already satisfied, skipping upgrade: setuptools<=39.1.0 in /usr/local/lib/python3.6/dist-packages (from tensorflow) (39.1.0)\r\n",
            "Requirement already satisfied, skipping upgrade: astor>=0.6.0 in /usr/local/lib/python3.6/dist-packages (from tensorflow) (0.7.1)\r\n",
            "Requirement already satisfied, skipping upgrade: wheel>=0.26 in /usr/local/lib/python3.6/dist-packages (from tensorflow) (0.31.1)\n",
            "Requirement already satisfied, skipping upgrade: tensorboard<1.10.0,>=1.9.0 in /usr/local/lib/python3.6/dist-packages (from tensorflow) (1.9.0)\n",
            "Requirement already satisfied, skipping upgrade: termcolor>=1.1.0 in /usr/local/lib/python3.6/dist-packages (from tensorflow) (1.1.0)\n",
            "Requirement already satisfied, skipping upgrade: absl-py>=0.1.6 in /usr/local/lib/python3.6/dist-packages (from tensorflow) (0.2.2)\n",
            "Requirement already satisfied, skipping upgrade: grpcio>=1.8.6 in /usr/local/lib/python3.6/dist-packages (from tensorflow) (1.13.0)\n",
            "Requirement already satisfied, skipping upgrade: markdown>=2.6.8 in /usr/local/lib/python3.6/dist-packages (from tensorboard<1.10.0,>=1.9.0->tensorflow) (2.6.11)\n",
            "Requirement already satisfied, skipping upgrade: werkzeug>=0.11.10 in /usr/local/lib/python3.6/dist-packages (from tensorboard<1.10.0,>=1.9.0->tensorflow) (0.14.1)\n"
          ],
          "name": "stdout"
        }
      ]
    },
    {
      "metadata": {
        "id": "QoKef0EAajA1",
        "colab_type": "code",
        "colab": {
          "autoexec": {
            "startup": false,
            "wait_interval": 0
          },
          "base_uri": "https://localhost:8080/",
          "height": 34
        },
        "outputId": "126edddc-3d51-4d1e-eddc-8b63eac582f4",
        "executionInfo": {
          "status": "ok",
          "timestamp": 1532455748138,
          "user_tz": 420,
          "elapsed": 2880,
          "user": {
            "displayName": "Jeffrey Norton",
            "photoUrl": "https://lh3.googleusercontent.com/a/default-user=s128",
            "userId": "105168130564860049225"
          }
        }
      },
      "cell_type": "code",
      "source": [
        "!pip install -U numpy"
      ],
      "execution_count": 4,
      "outputs": [
        {
          "output_type": "stream",
          "text": [
            "Requirement already up-to-date: numpy in /usr/local/lib/python3.6/dist-packages (1.15.0)\r\n"
          ],
          "name": "stdout"
        }
      ]
    },
    {
      "metadata": {
        "id": "4ORjJ8vvvOvF",
        "colab_type": "text"
      },
      "cell_type": "markdown",
      "source": [
        "### Where am I?\n",
        "\n",
        "One goal is to allow the notebooks to exist and run anywhere.  The following code, while somewhat kludgy, will at least allow us to guess where the notebook is running. Is this Google Colaboratory?  If so, mount Google Drive so we can use our utilities.  See [https://gist.github.com/osmszk/4d170bb100209000ad362f1d5bf7c927](https://gist.github.com/osmszk/4d170bb100209000ad362f1d5bf7c927).\n",
        "\n",
        "If on Colaboratory, the code will mount your Google Drive at /content/drive."
      ]
    },
    {
      "metadata": {
        "id": "iqLfu5Jgt_7d",
        "colab_type": "code",
        "colab": {
          "autoexec": {
            "startup": false,
            "wait_interval": 0
          },
          "base_uri": "https://localhost:8080/",
          "height": 104
        },
        "outputId": "f31f8a02-dcb0-4c55-f387-1f5f322b7267",
        "executionInfo": {
          "status": "ok",
          "timestamp": 1532460910356,
          "user_tz": 420,
          "elapsed": 44150,
          "user": {
            "displayName": "Jeffrey Norton",
            "photoUrl": "https://lh3.googleusercontent.com/a/default-user=s128",
            "userId": "105168130564860049225"
          }
        }
      },
      "cell_type": "code",
      "source": [
        "import os\n",
        "try:\n",
        "    os.environ['DATALAB_SETTINGS_OVERRIDES']\n",
        "    \n",
        "    #colab\n",
        "    # google-drive-ocamlfuse\n",
        "    # https://github.com/astrada/google-drive-ocamlfuse\n",
        "    !apt-get install -y -qq software-properties-common python-software-properties module-init-tools\n",
        "    !add-apt-repository -y ppa:alessandro-strada/ppa 2>&1 > /dev/null\n",
        "    !apt-get update -qq 2>&1 > /dev/null\n",
        "    !apt-get -y install -qq google-drive-ocamlfuse fuse\n",
        "\n",
        "    # Colab Auth token\n",
        "    from google.colab import auth\n",
        "    auth.authenticate_user()\n",
        "\n",
        "    # Drive FUSE library credential\n",
        "    from oauth2client.client import GoogleCredentials\n",
        "    creds = GoogleCredentials.get_application_default()\n",
        "    import getpass\n",
        "    !google-drive-ocamlfuse -headless -id={creds.client_id} -secret={creds.client_secret} < /dev/null 2>&1 | grep URL\n",
        "    vcode = getpass.getpass()\n",
        "    !echo {vcode} | google-drive-ocamlfuse -headless -id={creds.client_id} -secret={creds.client_secret}\n",
        "\n",
        "    # drive/ Google Drive\n",
        "    !mkdir -p drive\n",
        "    !google-drive-ocamlfuse drive\n",
        "except:\n",
        "    pass"
      ],
      "execution_count": 34,
      "outputs": [
        {
          "output_type": "stream",
          "text": [
            "Please, open the following URL in a web browser: https://accounts.google.com/o/oauth2/auth?client_id=32555940559.apps.googleusercontent.com&redirect_uri=urn%3Aietf%3Awg%3Aoauth%3A2.0%3Aoob&scope=https%3A%2F%2Fwww.googleapis.com%2Fauth%2Fdrive&response_type=code&access_type=offline&approval_prompt=force\r\n",
            "··········\n",
            "Please, open the following URL in a web browser: https://accounts.google.com/o/oauth2/auth?client_id=32555940559.apps.googleusercontent.com&redirect_uri=urn%3Aietf%3Awg%3Aoauth%3A2.0%3Aoob&scope=https%3A%2F%2Fwww.googleapis.com%2Fauth%2Fdrive&response_type=code&access_type=offline&approval_prompt=force\n",
            "Please enter the verification code: Access token retrieved correctly.\n"
          ],
          "name": "stdout"
        }
      ]
    },
    {
      "metadata": {
        "id": "tDYXoY-YyfNY",
        "colab_type": "code",
        "colab": {
          "autoexec": {
            "startup": false,
            "wait_interval": 0
          },
          "base_uri": "https://localhost:8080/",
          "height": 101
        },
        "outputId": "404b486d-6a25-4689-eaa1-763fcc7d5417",
        "executionInfo": {
          "status": "ok",
          "timestamp": 1532461030019,
          "user_tz": 420,
          "elapsed": 2874,
          "user": {
            "displayName": "Jeffrey Norton",
            "photoUrl": "https://lh3.googleusercontent.com/a/default-user=s128",
            "userId": "105168130564860049225"
          }
        }
      },
      "cell_type": "code",
      "source": [
        "!ls /content/drive/Colaboratory_Notebooks/"
      ],
      "execution_count": 37,
      "outputs": [
        {
          "output_type": "stream",
          "text": [
            "CNNsWithTensorFlowAndKeras.ipynb  GCP_mlapis.ipynb\r\n",
            "FeedForward2DeepNetwork.ipynb\t  GCP_StartingTensorFlow.ipynb\r\n",
            "Feed Forward Network.ipynb\t  Learning_ML\r\n",
            "GCP_cloudmle.ipynb\t\t  RadialBasisFunctionNetwork.ipynb\r\n",
            "GCP_EstimatorInTensorFlow.ipynb   Udemy_TensorFlowSourceCode\r\n"
          ],
          "name": "stdout"
        }
      ]
    },
    {
      "metadata": {
        "id": "C6SPfBTObt0t",
        "colab_type": "text"
      },
      "cell_type": "markdown",
      "source": [
        "## Keras Backend\n",
        "\n",
        "Choose the backend to use before importing any Keras libraries.  Microsoft's *cntk* has a lot of dependencies on Microsoft's C++ software, etc. and may not be appropriate for the environment you want to run in."
      ]
    },
    {
      "metadata": {
        "id": "zaiuMjzIayt-",
        "colab_type": "code",
        "colab": {
          "autoexec": {
            "startup": false,
            "wait_interval": 0
          }
        }
      },
      "cell_type": "code",
      "source": [
        "import os\n",
        "\n",
        "os.environ['KERAS_BACKEND'] = 'theano'\n",
        "#os.environ['KERAS_BACKEND'] = 'tensorflow'"
      ],
      "execution_count": 0,
      "outputs": []
    },
    {
      "metadata": {
        "id": "VlHHPCamW0g_",
        "colab_type": "text"
      },
      "cell_type": "markdown",
      "source": [
        "Make results reproducible by setting a fixed seed for random number generation."
      ]
    },
    {
      "metadata": {
        "id": "xnJI8yK3Y93B",
        "colab_type": "code",
        "colab": {
          "autoexec": {
            "startup": false,
            "wait_interval": 0
          }
        }
      },
      "cell_type": "code",
      "source": [
        "import numpy as np\n",
        "\n",
        "# fix random seed for reproducibility\n",
        "seed = 155\n",
        "np.random.seed(seed)"
      ],
      "execution_count": 0,
      "outputs": []
    },
    {
      "metadata": {
        "id": "OOFVn98VpZP5",
        "colab_type": "text"
      },
      "cell_type": "markdown",
      "source": [
        "## RBF Layer for Keras\n",
        "Keras doesn't provide RBF layers natively.  [Petra Vidnerova](https://github.com/PetraVidnerova/rbf_keras) does provide an RBF layer - this demonstrates how to write custom layers in Keras."
      ]
    },
    {
      "metadata": {
        "id": "es9ukPefpXXP",
        "colab_type": "code",
        "colab": {
          "autoexec": {
            "startup": false,
            "wait_interval": 0
          },
          "base_uri": "https://localhost:8080/",
          "height": 34
        },
        "outputId": "0e47b38e-f39e-4591-a3c4-f1e590607ab7",
        "executionInfo": {
          "status": "ok",
          "timestamp": 1532455751273,
          "user_tz": 420,
          "elapsed": 2108,
          "user": {
            "displayName": "Jeffrey Norton",
            "photoUrl": "https://lh3.googleusercontent.com/a/default-user=s128",
            "userId": "105168130564860049225"
          }
        }
      },
      "cell_type": "code",
      "source": [
        "from keras.initializers import Initializer\n",
        "import numpy as np \n",
        "\n",
        "class InitFromFile(Initializer):\n",
        "    \"\"\" Initialize the weights by loading from file.\n",
        "    # Arguments\n",
        "        filename: name of file, should by .npy file \n",
        "    \"\"\"\n",
        "    def __init__(self, filename):\n",
        "        self.filename = filename \n",
        "\n",
        "    def __call__(self, shape, dtype=None):\n",
        "        with open(self.filename, \"rb\") as f:\n",
        "            X = np.load(f)\n",
        "        assert shape == X.shape \n",
        "        return X \n",
        "\n",
        "    def get_config(self):\n",
        "        return {\n",
        "            'filename': self.filename\n",
        "        }"
      ],
      "execution_count": 7,
      "outputs": [
        {
          "output_type": "stream",
          "text": [
            "Using Theano backend.\n"
          ],
          "name": "stderr"
        }
      ]
    },
    {
      "metadata": {
        "id": "mlgadc4ep8F5",
        "colab_type": "code",
        "colab": {
          "autoexec": {
            "startup": false,
            "wait_interval": 0
          }
        }
      },
      "cell_type": "code",
      "source": [
        "import random \n",
        "from keras import backend as K\n",
        "from keras.engine.topology import Layer\n",
        "from keras.initializers import RandomUniform, Initializer, Orthogonal, Constant\n",
        "import numpy as np\n",
        "\n",
        "class InitCentersRandom(Initializer):\n",
        "    \"\"\" Initializer for initialization of centers of RBF network\n",
        "        as random samples from the given data set.\n",
        "    # Arguments\n",
        "        X: matrix, dataset to choose the centers from (random rows \n",
        "          are taken as centers)\n",
        "    \"\"\"\n",
        "    def __init__(self, X):\n",
        "        self.X = X \n",
        "\n",
        "    def __call__(self, shape, dtype=None):\n",
        "        assert shape[1] == self.X.shape[1]\n",
        "        idx = np.random.randint(self.X.shape[0], size=shape[0])\n",
        "        return self.X[idx,:]\n",
        "\n",
        "        \n",
        "class RBFLayer(Layer):\n",
        "    \"\"\" Layer of Gaussian RBF units. \n",
        "    # Example\n",
        " \n",
        "    ```python\n",
        "        model = Sequential()\n",
        "        model.add(RBFLayer(10,\n",
        "                           initializer=InitCentersRandom(X), \n",
        "                           betas=1.0,\n",
        "                           input_shape=(1,)))\n",
        "        model.add(Dense(1))\n",
        "    ```\n",
        "    \n",
        "    # Arguments\n",
        "        output_dim: number of hidden units (i.e. number of outputs of the layer)\n",
        "        initializer: instance of initiliazer to initialize centers\n",
        "        betas: float, initial value for betas \n",
        "    \"\"\"\n",
        "    def __init__(self, output_dim, initializer=None, betas=1.0, **kwargs):\n",
        "        self.output_dim = output_dim\n",
        "        self.init_betas = betas \n",
        "        if not initializer:\n",
        "            self.initializer = RandomUniform(0.0, 1.0)\n",
        "        else:\n",
        "            self.initializer = initializer \n",
        "        super(RBFLayer, self).__init__(**kwargs)\n",
        "\n",
        "    def build(self, input_shape):\n",
        "        \n",
        "        self.centers = self.add_weight(name='centers', \n",
        "                                       shape=(self.output_dim, input_shape[1]),\n",
        "                                       initializer=self.initializer,\n",
        "                                       trainable=True)\n",
        "        self.betas = self.add_weight(name='betas',\n",
        "                                     shape=(self.output_dim,),\n",
        "                                     initializer=Constant(value=self.init_betas),\n",
        "                                     trainable=True)\n",
        "            \n",
        "        super(RBFLayer, self).build(input_shape)  \n",
        "\n",
        "    def call(self, x):\n",
        "\n",
        "        C = K.expand_dims(self.centers)\n",
        "        H = K.transpose(C-K.transpose(x))\n",
        "        return K.exp( -self.betas * K.sum(H**2, axis=1))\n",
        "\n",
        "    def compute_output_shape(self, input_shape):\n",
        "        return (input_shape[0], self.output_dim)\n",
        "\n",
        "\n",
        "    def get_config(self):\n",
        "        # have to define get_config to be able to use model_from_json\n",
        "        config = {\n",
        "            'output_dim': self.output_dim\n",
        "        }\n",
        "        base_config = super(RBFLayer, self).get_config()\n",
        "        return dict(list(base_config.items()) + list(config.items()))"
      ],
      "execution_count": 0,
      "outputs": []
    },
    {
      "metadata": {
        "id": "kJz4VQ2L-ARQ",
        "colab_type": "text"
      },
      "cell_type": "markdown",
      "source": [
        "## Creating an RBF **Network**\n",
        "\n",
        "Similar to our feed forward case, we write some helper functions.  First ```run_model``` will create a RBFN and fit it and calculate the fitting metrics (RMSE)."
      ]
    },
    {
      "metadata": {
        "id": "4onk9aCJQg-6",
        "colab_type": "code",
        "colab": {
          "autoexec": {
            "startup": false,
            "wait_interval": 0
          }
        }
      },
      "cell_type": "code",
      "source": [
        "import math\n",
        "import pandas as pd\n",
        "import seaborn as sns\n",
        "import matplotlib.pyplot as plt\n",
        "from sklearn.model_selection import train_test_split\n",
        "from sklearn.metrics import mean_squared_error\n",
        "\n",
        "from IPython.display import SVG\n",
        "from keras.utils.vis_utils import model_to_dot\n",
        "\n",
        "import keras\n",
        "from keras.models import Sequential\n",
        "from keras.layers import Dense, Activation\n",
        "from keras import backend as K\n",
        "from keras.utils.generic_utils import get_custom_objects"
      ],
      "execution_count": 0,
      "outputs": []
    },
    {
      "metadata": {
        "id": "UVeqHlqOktK6",
        "colab_type": "text"
      },
      "cell_type": "markdown",
      "source": [
        "RBFs are really designed to work with continuous functions.  So one problem to consider is fitting (continuous) datasets.  For simplicity - we can simply just generate a dataset using some curve function like sin.  What's nice about using a real function is that we can generate what should be other data points with ease .\n",
        "\n",
        "One question that should be asked is if it is possible to extrapolate values, that is, perform prediction outside of the training range?  We shall discover that this is not possible, but it is a good question.\n",
        "\n",
        "## One-Dimensional Example"
      ]
    },
    {
      "metadata": {
        "id": "o90uTfDARds3",
        "colab_type": "code",
        "colab": {
          "autoexec": {
            "startup": false,
            "wait_interval": 0
          }
        }
      },
      "cell_type": "code",
      "source": [
        "stepsize = 0.05\n",
        "test0, testf = -1.0, 10.0\n",
        "train0, trainf = test0-stepsize/2.0, testf+stepsize/2.0\n",
        "\n",
        "# Generate a data set from the function sin(2*pi*t)\n",
        "def test_function(x):\n",
        "  return np.sin(2*math.pi*x)\n",
        "\n",
        "ptrain_X = np.arange(test0, testf, stepsize)\n",
        "ptrain_Y = test_function(ptrain_X)\n",
        "\n",
        "# And for validation, let's create a somewhat overlapping\n",
        "# dataset, but are going to let this dataset range go to 2.\n",
        "ptest_X = np.arange(train0, trainf, 2*stepsize)\n",
        "ptest_Y = test_function(ptest_X)"
      ],
      "execution_count": 0,
      "outputs": []
    },
    {
      "metadata": {
        "id": "ifCK1BHqSWZ9",
        "colab_type": "code",
        "colab": {
          "autoexec": {
            "startup": false,
            "wait_interval": 0
          },
          "base_uri": "https://localhost:8080/",
          "height": 128
        },
        "outputId": "ef700190-60f8-4d43-afb2-b8d90de94190",
        "executionInfo": {
          "status": "ok",
          "timestamp": 1532455753735,
          "user_tz": 420,
          "elapsed": 450,
          "user": {
            "displayName": "Jeffrey Norton",
            "photoUrl": "https://lh3.googleusercontent.com/a/default-user=s128",
            "userId": "105168130564860049225"
          }
        }
      },
      "cell_type": "code",
      "source": [
        "sns.set(style=\"darkgrid\")\n",
        "\n",
        "# Set up the figure\n",
        "f, ax = plt.subplots(figsize=(8, 8))\n",
        "ax.set_aspect(\"equal\")\n",
        "\n",
        "# Draw the two density plots\n",
        "ax = sns.regplot(x=ptrain_X, y=ptrain_Y, fit_reg=False, color='blue')\n",
        "ax = sns.regplot(x=ptest_X, y=ptest_Y, fit_reg=False, color='red')"
      ],
      "execution_count": 11,
      "outputs": [
        {
          "output_type": "display_data",
          "data": {
            "image/png": "[encoded data removed]",
            "text/plain": [
              "<matplotlib.figure.Figure at 0x7f34d9738d30>"
            ]
          },
          "metadata": {
            "tags": []
          }
        }
      ]
    },
    {
      "metadata": {
        "id": "nsTND-Gqf9-2",
        "colab_type": "text"
      },
      "cell_type": "markdown",
      "source": [
        "Define functions which will create the model, train it, and then test it.  First, a function to create a model."
      ]
    },
    {
      "metadata": {
        "id": "z8XZwdw_gShl",
        "colab_type": "code",
        "colab": {
          "autoexec": {
            "startup": false,
            "wait_interval": 0
          }
        }
      },
      "cell_type": "code",
      "source": [
        "def create_model(X_train, hidden_layer_size, dim=1, betas=3.0, optimizer = None,\n",
        "                 lr=0.01):\n",
        "    np.random.seed(seed)\n",
        "    model = Sequential() # create model\n",
        "    \n",
        "    # Create an RBF hidden layer - this uses the Gaussian as the closeness function.\n",
        "    model.add(RBFLayer(hidden_layer_size,\n",
        "                       initializer=InitCentersRandom(X_train), \n",
        "                       betas=betas,\n",
        "                       input_shape=(dim,))) # hidden layer\n",
        "    \n",
        "    model.add(Dense(1)) # output layer\n",
        "    # Default learning rate is 0.001.  For this problem, we can get very aggressive\n",
        "    # on the learning rate.\n",
        "    if optimizer is None:\n",
        "        optimizer = keras.optimizers.Adam(lr=lr)\n",
        "    \n",
        "    # For regression (which this is closest to), use RMSE, not cross-entropy.\n",
        "    model.compile(loss='mean_squared_error',optimizer=optimizer)\n",
        "    return model"
      ],
      "execution_count": 0,
      "outputs": []
    },
    {
      "metadata": {
        "id": "Vr8bkC95idg5",
        "colab_type": "code",
        "colab": {
          "autoexec": {
            "startup": false,
            "wait_interval": 0
          }
        }
      },
      "cell_type": "code",
      "source": [
        "def run_model(X_train, Y_train, X_test, Y_test, hidden_layer_size, epochs=1000):\n",
        "    np.random.seed(seed)\n",
        "    model = Sequential() # create model\n",
        "    \n",
        "    # Create an RBF hidden layer - this uses the Gaussian as the closeness function.\n",
        "    model.add(RBFLayer(hidden_layer_size,\n",
        "                       initializer=InitCentersRandom(X_train), \n",
        "                       betas=3.0,\n",
        "                       input_shape=(1,))) # hidden layer\n",
        "    \n",
        "    model.add(Dense(1)) # output layer\n",
        "    # Default learning rate is 0.001.  For this problem, we can get very aggressive\n",
        "    # on the learning rate.\n",
        "    adamo = keras.optimizers.Adam(lr=0.01)\n",
        "    \n",
        "    # For regression (which this is closest to), use RMSE, not cross-entropy.\n",
        "    model.compile(loss='mean_squared_error',optimizer=adamo)\n",
        "    \n",
        "    # Fit the model\n",
        "    # verbose=0 suppresses the file writing message\n",
        "    # note that the fit method expects a list of callbacks\n",
        "    fitting_log={'loss':[], 'acc':[]}\n",
        "    \n",
        "    # Fit in a loop so we can track the test accuracy as we go.\n",
        "    for i in range(epochs):\n",
        "        results = model.fit(X_train, Y_train,epochs=1, verbose=0, batch_size=X_train.shape[0],\n",
        "                            initial_epoch=0)\n",
        "        fitting_log['loss'].append(results.history['loss'][0])\n",
        "        y_pred = model.predict(X_train)\n",
        "        fitting_log['acc'].append(mean_squared_error(Y_train, y_pred))\n",
        "        \n",
        "    # Evaluate the model on the test case to see how we did.\n",
        "    y_tpred = model.predict(X_test)\n",
        "    return model, fitting_log, mean_squared_error(Y_test, y_tpred)"
      ],
      "execution_count": 0,
      "outputs": []
    },
    {
      "metadata": {
        "id": "qj7ggvVDkD_1",
        "colab_type": "text"
      },
      "cell_type": "markdown",
      "source": [
        "Plotter of loss and accuracy."
      ]
    },
    {
      "metadata": {
        "id": "dCVnhe3Jis8m",
        "colab_type": "code",
        "colab": {
          "autoexec": {
            "startup": false,
            "wait_interval": 0
          }
        }
      },
      "cell_type": "code",
      "source": [
        "def plot_nn(fitted_log):\n",
        "    fig, (ax1, ax2) = plt.subplots(2, 1)\n",
        "    ax1.plot(range(len(fitted_log['loss'])), fitted_log['loss'],linestyle='-', color='blue',label='Training', lw=2)\n",
        "    ax2.plot(range(len(fitted_log['acc'])), fitted_log['acc'],linestyle='-', color='blue',label='Training', lw=2)\n",
        "    leg = ax1.legend(bbox_to_anchor=(0.7, 0.9), loc=2, borderaxespad=0.,fontsize=13)\n",
        "    ax1.set_xticklabels('')\n",
        "    #ax1.set_yscale('log')\n",
        "    ax2.set_xlabel('# Epochs',fontsize=14)\n",
        "    ax1.set_ylabel('Loss',fontsize=14)\n",
        "    ax2.set_ylabel('Accuracy',fontsize=14)\n",
        "    plt.show()"
      ],
      "execution_count": 0,
      "outputs": []
    },
    {
      "metadata": {
        "id": "F1afMNwr_IZG",
        "colab_type": "text"
      },
      "cell_type": "markdown",
      "source": [
        "Generates the output results."
      ]
    },
    {
      "metadata": {
        "id": "9GtYUEsUjPBa",
        "colab_type": "code",
        "colab": {
          "autoexec": {
            "startup": false,
            "wait_interval": 0
          }
        }
      },
      "cell_type": "code",
      "source": [
        "def output_results(model, fitting_log, test_deviation):\n",
        "    # Print a summary of the model\n",
        "    print(model.summary())\n",
        "    # Print the fitting log\n",
        "    nepochs = len(fitting_log['loss'])\n",
        "    print(len(fitting_log['acc']), nepochs)\n",
        "    print('Training loss, accuracy:', [fitting_log['loss'][nepochs-2:nepochs-1], fitting_log['acc'][nepochs-2:nepochs-1]])\n",
        "    plot_nn(fitting_log)\n",
        "    print('Test set metric (RMSE): {}'.format(test_deviation))"
      ],
      "execution_count": 0,
      "outputs": []
    },
    {
      "metadata": {
        "id": "p0e8Njix_M5N",
        "colab_type": "text"
      },
      "cell_type": "markdown",
      "source": [
        "Properly shape the data."
      ]
    },
    {
      "metadata": {
        "id": "d6eSaifOn89n",
        "colab_type": "code",
        "colab": {
          "autoexec": {
            "startup": false,
            "wait_interval": 0
          }
        }
      },
      "cell_type": "code",
      "source": [
        "train_X = np.transpose(np.reshape(ptrain_X, (1,-1)))\n",
        "train_Y = np.transpose(np.reshape(ptrain_Y, (1,-1)))\n",
        "test_X = np.transpose(np.reshape(ptest_X, (1,-1)))\n",
        "test_Y = np.transpose(np.reshape(ptest_Y, (1,-1)))"
      ],
      "execution_count": 0,
      "outputs": []
    },
    {
      "metadata": {
        "id": "-S5H4kDQ_RNz",
        "colab_type": "text"
      },
      "cell_type": "markdown",
      "source": [
        "Try a hidden layer with only five nodes."
      ]
    },
    {
      "metadata": {
        "id": "j-Tn0yjIj2IA",
        "colab_type": "code",
        "colab": {
          "autoexec": {
            "startup": false,
            "wait_interval": 0
          }
        }
      },
      "cell_type": "code",
      "source": [
        "model_5, fitting_log_5, test_deviation_5 = run_model(train_X, train_Y, test_X, test_Y, 5, epochs=1000)"
      ],
      "execution_count": 0,
      "outputs": []
    },
    {
      "metadata": {
        "id": "heRdhd7cl-Yf",
        "colab_type": "code",
        "colab": {
          "autoexec": {
            "startup": false,
            "wait_interval": 0
          },
          "base_uri": "https://localhost:8080/",
          "height": 617
        },
        "outputId": "ea43cff8-8cf2-4777-ac77-b03db8c4d873",
        "executionInfo": {
          "status": "ok",
          "timestamp": 1532455806334,
          "user_tz": 420,
          "elapsed": 2397,
          "user": {
            "displayName": "Jeffrey Norton",
            "photoUrl": "https://lh3.googleusercontent.com/a/default-user=s128",
            "userId": "105168130564860049225"
          }
        }
      },
      "cell_type": "code",
      "source": [
        "output_results(model_5, fitting_log_5, test_deviation_5)"
      ],
      "execution_count": 17,
      "outputs": [
        {
          "output_type": "stream",
          "text": [
            "_________________________________________________________________\n",
            "Layer (type)                 Output Shape              Param #   \n",
            "=================================================================\n",
            "rbf_layer_1 (RBFLayer)       (None, 5)                 10        \n",
            "_________________________________________________________________\n",
            "dense_1 (Dense)              (None, 1)                 6         \n",
            "=================================================================\n",
            "Total params: 16\n",
            "Trainable params: 16\n",
            "Non-trainable params: 0\n",
            "_________________________________________________________________\n",
            "None\n",
            "1000 1000\n",
            "Training loss, accuracy: [[0.4248914420604706], [0.4248513925989986]]\n"
          ],
          "name": "stdout"
        },
        {
          "output_type": "display_data",
          "data": {
            "image/png": "[encoded data removed]",
            "text/plain": [
              "<matplotlib.figure.Figure at 0x7f34cfb074a8>"
            ]
          },
          "metadata": {
            "tags": []
          }
        },
        {
          "output_type": "stream",
          "text": [
            "Test set metric (RMSE): 0.4213329026152232\n"
          ],
          "name": "stdout"
        }
      ]
    },
    {
      "metadata": {
        "id": "AozQPrfn_t6f",
        "colab_type": "text"
      },
      "cell_type": "markdown",
      "source": [
        "What happens with a hidden layer with 100 nodes?"
      ]
    },
    {
      "metadata": {
        "id": "efwdkp9EmNoM",
        "colab_type": "code",
        "colab": {
          "autoexec": {
            "startup": false,
            "wait_interval": 0
          }
        }
      },
      "cell_type": "code",
      "source": [
        "model_100, fitting_log_100, test_deviation_100 = run_model(train_X, train_Y, test_X, test_Y, 100, epochs=500)"
      ],
      "execution_count": 0,
      "outputs": []
    },
    {
      "metadata": {
        "id": "GuSkG76jmZkZ",
        "colab_type": "code",
        "colab": {
          "autoexec": {
            "startup": false,
            "wait_interval": 0
          },
          "base_uri": "https://localhost:8080/",
          "height": 617
        },
        "outputId": "0d4f5250-bf94-439f-83d7-34bd3bb47d5a",
        "executionInfo": {
          "status": "ok",
          "timestamp": 1532455810551,
          "user_tz": 420,
          "elapsed": 842,
          "user": {
            "displayName": "Jeffrey Norton",
            "photoUrl": "https://lh3.googleusercontent.com/a/default-user=s128",
            "userId": "105168130564860049225"
          }
        }
      },
      "cell_type": "code",
      "source": [
        "output_results(model_100, fitting_log_100, test_deviation_100)"
      ],
      "execution_count": 19,
      "outputs": [
        {
          "output_type": "stream",
          "text": [
            "_________________________________________________________________\n",
            "Layer (type)                 Output Shape              Param #   \n",
            "=================================================================\n",
            "rbf_layer_2 (RBFLayer)       (None, 100)               200       \n",
            "_________________________________________________________________\n",
            "dense_2 (Dense)              (None, 1)                 101       \n",
            "=================================================================\n",
            "Total params: 301\n",
            "Trainable params: 301\n",
            "Non-trainable params: 0\n",
            "_________________________________________________________________\n",
            "None\n",
            "500 500\n",
            "Training loss, accuracy: [[0.0007150310557335615], [0.0007128871629354116]]\n"
          ],
          "name": "stdout"
        },
        {
          "output_type": "display_data",
          "data": {
            "image/png": "[encoded data removed]",
            "text/plain": [
              "<matplotlib.figure.Figure at 0x7f34cead6128>"
            ]
          },
          "metadata": {
            "tags": []
          }
        },
        {
          "output_type": "stream",
          "text": [
            "Test set metric (RMSE): 0.0015464598847760224\n"
          ],
          "name": "stdout"
        }
      ]
    },
    {
      "metadata": {
        "id": "nonn0TnV_5mP",
        "colab_type": "text"
      },
      "cell_type": "markdown",
      "source": [
        "That is very good - both the training and testing metrics are less than the other versions we tried."
      ]
    },
    {
      "metadata": {
        "id": "J69a-FKDHyyq",
        "colab_type": "code",
        "colab": {
          "autoexec": {
            "startup": false,
            "wait_interval": 0
          },
          "base_uri": "https://localhost:8080/",
          "height": 113
        },
        "outputId": "e0a33a31-5637-4d85-c772-f87aac0d25f1",
        "executionInfo": {
          "status": "ok",
          "timestamp": 1532455811425,
          "user_tz": 420,
          "elapsed": 812,
          "user": {
            "displayName": "Jeffrey Norton",
            "photoUrl": "https://lh3.googleusercontent.com/a/default-user=s128",
            "userId": "105168130564860049225"
          }
        }
      },
      "cell_type": "code",
      "source": [
        "px0, pxf = -2.0 - stepsize/3, 12 + stepsize/3\n",
        "predict_X = np.arange(px0, pxf, stepsize)\n",
        "predict_Y = model_100.predict(predict_X)\n",
        "\n",
        "# Set up the figure\n",
        "f, ax = plt.subplots(figsize=(8, 8))\n",
        "ax.set_aspect(\"equal\")\n",
        "\n",
        "# Draw a density plot for the prediction\n",
        "ax = sns.regplot(x=predict_X, y=predict_Y, fit_reg=False, color='green')"
      ],
      "execution_count": 20,
      "outputs": [
        {
          "output_type": "display_data",
          "data": {
            "image/png": "[encoded data removed]",
            "text/plain": [
              "<matplotlib.figure.Figure at 0x7f34ceaa4dd8>"
            ]
          },
          "metadata": {
            "tags": []
          }
        }
      ]
    },
    {
      "metadata": {
        "id": "s2p4sMkMLtBs",
        "colab_type": "text"
      },
      "cell_type": "markdown",
      "source": [
        "This is not unexpected actually.  This is a mathematic decay which to some extent reflects the underlying mathematics.  Extrapolation won't work for these fits.  The predictions must be kept in the range of testing and training.  So let's just extend the periods - both for training and testing."
      ]
    }
  ]
}