{
 "cells": [
  {
   "cell_type": "markdown",
   "metadata": {
    "colab_type": "text",
    "id": "ywTsFTgFYPB1"
   },
   "source": [
    "# Radial Basis Functions and Feed Forward Networks\n",
    "\n",
    "Radial basis function networks are *not* feed forward networks.  Feed forward networks are typically used for classification whereas radial bases function networks are used for *fitting* contiguous functions.\n",
    "\n",
    "## Environment Preparation\n",
    "\n",
    "Upgrade and install packages.  Add more packages as required in your environment."
   ]
  },
  {
   "cell_type": "code",
   "execution_count": 31,
   "metadata": {
    "colab": {
     "autoexec": {
      "startup": false,
      "wait_interval": 0
     },
     "base_uri": "https://localhost:8080/",
     "height": 34
    },
    "colab_type": "code",
    "collapsed": false,
    "executionInfo": {
     "elapsed": 2513,
     "status": "ok",
     "timestamp": 1532455739544,
     "user": {
      "displayName": "Jeffrey Norton",
      "photoUrl": "https://lh3.googleusercontent.com/a/default-user=s128",
      "userId": "105168130564860049225"
     },
     "user_tz": 420
    },
    "id": "pxLe3WxQWrXj",
    "outputId": "0b8cf9c8-70c2-4efb-c931-424ce2b2a5e1"
   },
   "outputs": [
    {
     "name": "stdout",
     "output_type": "stream",
     "text": [
      "Requirement already up-to-date: pip in /opt/conda/lib/python3.5/site-packages (18.0)\r\n"
     ]
    }
   ],
   "source": [
    "!pip install --upgrade pip"
   ]
  },
  {
   "cell_type": "code",
   "execution_count": 32,
   "metadata": {
    "collapsed": false
   },
   "outputs": [
    {
     "name": "stdout",
     "output_type": "stream",
     "text": [
      "Requirement already up-to-date: keras in /opt/conda/lib/python3.5/site-packages (2.2.0)\n",
      "Requirement already satisfied, skipping upgrade: scipy>=0.14 in /opt/conda/lib/python3.5/site-packages (from keras) (1.1.0)\n",
      "Requirement already satisfied, skipping upgrade: keras-applications==1.0.2 in /opt/conda/lib/python3.5/site-packages (from keras) (1.0.2)\n",
      "Requirement already satisfied, skipping upgrade: h5py in /opt/conda/lib/python3.5/site-packages (from keras) (2.6.0)\n",
      "Requirement already satisfied, skipping upgrade: pyyaml in /opt/conda/lib/python3.5/site-packages (from keras) (3.12)\n",
      "Requirement already satisfied, skipping upgrade: six>=1.9.0 in /opt/conda/lib/python3.5/site-packages (from keras) (1.10.0)\n",
      "Requirement already satisfied, skipping upgrade: numpy>=1.9.1 in /opt/conda/lib/python3.5/site-packages (from keras) (1.15.0)\n",
      "Requirement already satisfied, skipping upgrade: keras-preprocessing==1.0.1 in /opt/conda/lib/python3.5/site-packages (from keras) (1.0.1)\n"
     ]
    }
   ],
   "source": [
    "!pip install -U keras"
   ]
  },
  {
   "cell_type": "code",
   "execution_count": 33,
   "metadata": {
    "colab": {
     "autoexec": {
      "startup": false,
      "wait_interval": 0
     },
     "base_uri": "https://localhost:8080/",
     "height": 84
    },
    "colab_type": "code",
    "collapsed": false,
    "executionInfo": {
     "elapsed": 2625,
     "status": "ok",
     "timestamp": 1532455742229,
     "user": {
      "displayName": "Jeffrey Norton",
      "photoUrl": "https://lh3.googleusercontent.com/a/default-user=s128",
      "userId": "105168130564860049225"
     },
     "user_tz": 420
    },
    "id": "ovd_vbTOacSu",
    "outputId": "473e15ab-9418-4d49-adbe-07b61d70026b"
   },
   "outputs": [
    {
     "name": "stdout",
     "output_type": "stream",
     "text": [
      "Requirement already up-to-date: theano in /opt/conda/lib/python3.5/site-packages (1.0.2)\n",
      "Requirement already satisfied, skipping upgrade: six>=1.9.0 in /opt/conda/lib/python3.5/site-packages (from theano) (1.10.0)\n",
      "Requirement already satisfied, skipping upgrade: scipy>=0.14 in /opt/conda/lib/python3.5/site-packages (from theano) (1.1.0)\n",
      "Requirement already satisfied, skipping upgrade: numpy>=1.9.1 in /opt/conda/lib/python3.5/site-packages (from theano) (1.15.0)\n"
     ]
    }
   ],
   "source": [
    "!pip install -U theano"
   ]
  },
  {
   "cell_type": "code",
   "execution_count": 34,
   "metadata": {
    "colab": {
     "autoexec": {
      "startup": false,
      "wait_interval": 0
     },
     "base_uri": "https://localhost:8080/",
     "height": 252
    },
    "colab_type": "code",
    "collapsed": false,
    "executionInfo": {
     "elapsed": 2955,
     "status": "ok",
     "timestamp": 1532455745211,
     "user": {
      "displayName": "Jeffrey Norton",
      "photoUrl": "https://lh3.googleusercontent.com/a/default-user=s128",
      "userId": "105168130564860049225"
     },
     "user_tz": 420
    },
    "id": "AuYQ0RSLaeya",
    "outputId": "aeeef67f-3468-4a02-ef33-b667346b4eaf"
   },
   "outputs": [
    {
     "name": "stdout",
     "output_type": "stream",
     "text": [
      "Requirement already up-to-date: tensorflow in /opt/conda/lib/python3.5/site-packages (1.9.0)\n",
      "Requirement already satisfied, skipping upgrade: wheel>=0.26 in /opt/conda/lib/python3.5/site-packages (from tensorflow) (0.29.0)\n",
      "Requirement already satisfied, skipping upgrade: astor>=0.6.0 in /opt/conda/lib/python3.5/site-packages (from tensorflow) (0.7.1)\n",
      "Requirement already satisfied, skipping upgrade: setuptools<=39.1.0 in /opt/conda/lib/python3.5/site-packages/setuptools-27.2.0-py3.5.egg (from tensorflow) (27.2.0)\n",
      "Requirement already satisfied, skipping upgrade: termcolor>=1.1.0 in /opt/conda/lib/python3.5/site-packages (from tensorflow) (1.1.0)\n",
      "Requirement already satisfied, skipping upgrade: numpy>=1.13.3 in /opt/conda/lib/python3.5/site-packages (from tensorflow) (1.15.0)\n",
      "Requirement already satisfied, skipping upgrade: grpcio>=1.8.6 in /opt/conda/lib/python3.5/site-packages (from tensorflow) (1.13.0)\n",
      "Requirement already satisfied, skipping upgrade: absl-py>=0.1.6 in /opt/conda/lib/python3.5/site-packages (from tensorflow) (0.2.2)\n",
      "Requirement already satisfied, skipping upgrade: protobuf>=3.4.0 in /opt/conda/lib/python3.5/site-packages (from tensorflow) (3.6.0)\n",
      "Requirement already satisfied, skipping upgrade: tensorboard<1.10.0,>=1.9.0 in /opt/conda/lib/python3.5/site-packages (from tensorflow) (1.9.0)\n",
      "Requirement already satisfied, skipping upgrade: six>=1.10.0 in /opt/conda/lib/python3.5/site-packages (from tensorflow) (1.10.0)\n",
      "Requirement already satisfied, skipping upgrade: gast>=0.2.0 in /opt/conda/lib/python3.5/site-packages (from tensorflow) (0.2.0)\n",
      "Requirement already satisfied, skipping upgrade: werkzeug>=0.11.10 in /opt/conda/lib/python3.5/site-packages (from tensorboard<1.10.0,>=1.9.0->tensorflow) (0.14.1)\n",
      "Requirement already satisfied, skipping upgrade: markdown>=2.6.8 in /opt/conda/lib/python3.5/site-packages (from tensorboard<1.10.0,>=1.9.0->tensorflow) (2.6.11)\n"
     ]
    }
   ],
   "source": [
    "!pip install -U tensorflow"
   ]
  },
  {
   "cell_type": "code",
   "execution_count": 35,
   "metadata": {
    "colab": {
     "autoexec": {
      "startup": false,
      "wait_interval": 0
     },
     "base_uri": "https://localhost:8080/",
     "height": 34
    },
    "colab_type": "code",
    "collapsed": false,
    "executionInfo": {
     "elapsed": 2880,
     "status": "ok",
     "timestamp": 1532455748138,
     "user": {
      "displayName": "Jeffrey Norton",
      "photoUrl": "https://lh3.googleusercontent.com/a/default-user=s128",
      "userId": "105168130564860049225"
     },
     "user_tz": 420
    },
    "id": "QoKef0EAajA1",
    "outputId": "126edddc-3d51-4d1e-eddc-8b63eac582f4"
   },
   "outputs": [
    {
     "name": "stdout",
     "output_type": "stream",
     "text": [
      "Requirement already up-to-date: numpy in /opt/conda/lib/python3.5/site-packages (1.15.0)\r\n"
     ]
    }
   ],
   "source": [
    "!pip install -U numpy"
   ]
  },
  {
   "cell_type": "code",
   "execution_count": 2,
   "metadata": {
    "collapsed": false
   },
   "outputs": [
    {
     "name": "stdout",
     "output_type": "stream",
     "text": [
      "Collecting sklearn\n",
      "  Downloading https://files.pythonhosted.org/packages/1e/7a/dbb3be0ce9bd5c8b7e3d87328e79063f8b263b2b1bfa4774cb1147bfcd3f/sklearn-0.0.tar.gz\n",
      "Collecting scikit-learn (from sklearn)\n",
      "  Downloading https://files.pythonhosted.org/packages/b6/e2/a1e254a4a4598588d4fe88b45ab88a226c289ecfd0f6c90474eb6a9ea6b3/scikit_learn-0.19.2-cp35-cp35m-manylinux1_x86_64.whl (4.9MB)\n",
      "\u001b[K    100% |################################| 4.9MB 273kB/s \n",
      "\u001b[?25hBuilding wheels for collected packages: sklearn\n",
      "  Running setup.py bdist_wheel for sklearn ... \u001b[?25l-\b \b\\\b \bdone\n",
      "\u001b[?25h  Stored in directory: /root/.cache/pip/wheels/76/03/bb/589d421d27431bcd2c6da284d5f2286c8e3b2ea3cf1594c074\n",
      "Successfully built sklearn\n",
      "Installing collected packages: scikit-learn, sklearn\n",
      "  Found existing installation: scikit-learn 0.17.1\n",
      "    Uninstalling scikit-learn-0.17.1:\n",
      "      Successfully uninstalled scikit-learn-0.17.1\n",
      "Successfully installed scikit-learn-0.19.2 sklearn-0.0\n",
      "\u001b[33mYou are using pip version 9.0.1, however version 18.0 is available.\n",
      "You should consider upgrading via the 'pip install --upgrade pip' command.\u001b[0m\n"
     ]
    }
   ],
   "source": [
    "!pip install -U sklearn"
   ]
  },
  {
   "cell_type": "code",
   "execution_count": 36,
   "metadata": {
    "collapsed": true
   },
   "outputs": [],
   "source": [
    "# Force plots inline in the notebook\n",
    "%matplotlib inline"
   ]
  },
  {
   "cell_type": "markdown",
   "metadata": {
    "colab_type": "text",
    "id": "4ORjJ8vvvOvF"
   },
   "source": [
    "### Where am I?\n",
    "\n",
    "One goal is to allow the notebooks to exist and run anywhere.  The following code, while somewhat kludgy, will at least allow us to guess where the notebook is running."
   ]
  },
  {
   "cell_type": "code",
   "execution_count": 37,
   "metadata": {
    "collapsed": false
   },
   "outputs": [
    {
     "name": "stdout",
     "output_type": "stream",
     "text": [
      "Detected Environment: Local\n"
     ]
    }
   ],
   "source": [
    "env = None\n",
    "colaboratory_flag = False\n",
    "try:\n",
    "    # This will work for everything but Google Colaboratory since the utility is somewhere on Google Drive\n",
    "    # which is not yet mounted and so it is not reachable.\n",
    "    #\n",
    "    from utilities.detect_environment import detect_environment\n",
    "\n",
    "    env = detect_environment()\n",
    "\n",
    "    print('Detected Environment: {}'.format(env))\n",
    "    if env.detected_environment == utilities.detect_environment.COLABORATORY:\n",
    "        colaboratory_flag = True\n",
    "    \n",
    "except:\n",
    "    # Check if on Colaboratory\n",
    "    import os\n",
    "    try:\n",
    "        os.environ['DATALAB_SETTINGS_OVERRIDES']\n",
    "        colaboratory_flag = True\n",
    "    except:\n",
    "        pass\n",
    "        "
   ]
  },
  {
   "cell_type": "markdown",
   "metadata": {
    "colab_type": "text",
    "id": "4ORjJ8vvvOvF"
   },
   "source": [
    "If running on Google Colaboratory, mount Google Drive so we can use our utilities.  See [https://gist.github.com/osmszk/4d170bb100209000ad362f1d5bf7c927](https://gist.github.com/osmszk/4d170bb100209000ad362f1d5bf7c927).  If on Colaboratory, the code will mount your Google Drive at /content/drive."
   ]
  },
  {
   "cell_type": "code",
   "execution_count": 38,
   "metadata": {
    "colab": {
     "autoexec": {
      "startup": false,
      "wait_interval": 0
     },
     "base_uri": "https://localhost:8080/",
     "height": 104
    },
    "colab_type": "code",
    "collapsed": true,
    "executionInfo": {
     "elapsed": 44150,
     "status": "ok",
     "timestamp": 1532460910356,
     "user": {
      "displayName": "Jeffrey Norton",
      "photoUrl": "https://lh3.googleusercontent.com/a/default-user=s128",
      "userId": "105168130564860049225"
     },
     "user_tz": 420
    },
    "id": "iqLfu5Jgt_7d",
    "outputId": "f31f8a02-dcb0-4c55-f387-1f5f322b7267"
   },
   "outputs": [],
   "source": [
    "if colaboratory_flag:\n",
    "    #colab\n",
    "    # google-drive-ocamlfuse\n",
    "    # https://github.com/astrada/google-drive-ocamlfuse\n",
    "    !apt-get install -y -qq software-properties-common python-software-properties module-init-tools\n",
    "    !add-apt-repository -y ppa:alessandro-strada/ppa 2>&1 > /dev/null\n",
    "    !apt-get update -qq 2>&1 > /dev/null\n",
    "    !apt-get -y install -qq google-drive-ocamlfuse fuse\n",
    "\n",
    "    # Colab Auth token\n",
    "    from google.colab import auth\n",
    "    auth.authenticate_user()\n",
    "\n",
    "    # Drive FUSE library credential\n",
    "    from oauth2client.client import GoogleCredentials\n",
    "    creds = GoogleCredentials.get_application_default()\n",
    "    import getpass\n",
    "    !google-drive-ocamlfuse -headless -id={creds.client_id} -secret={creds.client_secret} < /dev/null 2>&1 | grep URL\n",
    "    vcode = getpass.getpass()\n",
    "    !echo {vcode} | google-drive-ocamlfuse -headless -id={creds.client_id} -secret={creds.client_secret}\n",
    "\n",
    "    # drive/ Google Drive\n",
    "    !mkdir -p drive\n",
    "    !google-drive-ocamlfuse drive"
   ]
  },
  {
   "cell_type": "markdown",
   "metadata": {},
   "source": [
    "### Set up Logging\n",
    "\n",
    "The file system is not set up.  Now we set up logging."
   ]
  },
  {
   "cell_type": "code",
   "execution_count": 40,
   "metadata": {
    "collapsed": true
   },
   "outputs": [],
   "source": [
    "import logging\n",
    "import utilities.setup_logging\n",
    "\n",
    "utilities.setup_logging.setup_logging()"
   ]
  },
  {
   "cell_type": "markdown",
   "metadata": {
    "colab_type": "text",
    "id": "C6SPfBTObt0t"
   },
   "source": [
    "## Keras Backend\n",
    "\n",
    "Choose the backend to use before importing any Keras libraries.  Microsoft's *cntk* has a lot of dependencies on Microsoft's C++ software, etc. and may not be appropriate for the environment you want to run in.  In fact, when I tried it on Azure Free Notebooks in July 2018, it crashed!\n",
    "\n",
    "TensorFlow - [https://www.tensorflow.org/](https://www.tensorflow.org/)\n",
    "\n",
    "Theano - [http://deeplearning.net/software/theano/](http://deeplearning.net/software/theano)"
   ]
  },
  {
   "cell_type": "code",
   "execution_count": 39,
   "metadata": {
    "colab": {
     "autoexec": {
      "startup": false,
      "wait_interval": 0
     }
    },
    "colab_type": "code",
    "collapsed": true,
    "id": "zaiuMjzIayt-"
   },
   "outputs": [],
   "source": [
    "import os\n",
    "\n",
    "os.environ['KERAS_BACKEND'] = 'tensorflow'\n",
    "os.environ['KERAS_BACKEND'] = 'theano'"
   ]
  },
  {
   "cell_type": "code",
   "execution_count": 41,
   "metadata": {
    "collapsed": false
   },
   "outputs": [],
   "source": [
    "if os.environ['KERAS_BACKEND'] == 'cntk' and env.detected_environment == detect_environment.AZURE:\n",
    "    !pip install -U cntk"
   ]
  },
  {
   "cell_type": "code",
   "execution_count": 42,
   "metadata": {
    "collapsed": false
   },
   "outputs": [
    {
     "name": "stdout",
     "output_type": "stream",
     "text": [
      "Fetching package metadata .............\n",
      "Solving package specifications: .\n",
      "\n",
      "# All requested packages already installed.\n",
      "# packages in environment at /opt/conda:\n",
      "#\n",
      "mkl-service               1.1.2                    py35_3  \n"
     ]
    }
   ],
   "source": [
    "if os.environ['KERAS_BACKEND'] == 'theano':\n",
    "    !conda install mkl-service -y"
   ]
  },
  {
   "cell_type": "markdown",
   "metadata": {
    "colab_type": "text",
    "id": "VlHHPCamW0g_"
   },
   "source": [
    "Make results reproducible by setting a fixed seed for random number generation."
   ]
  },
  {
   "cell_type": "code",
   "execution_count": 43,
   "metadata": {
    "colab": {
     "autoexec": {
      "startup": false,
      "wait_interval": 0
     }
    },
    "colab_type": "code",
    "collapsed": false,
    "id": "xnJI8yK3Y93B"
   },
   "outputs": [],
   "source": [
    "import numpy as np\n",
    "\n",
    "# fix random seed for reproducibility\n",
    "seed = 155\n",
    "np.random.seed(seed)"
   ]
  },
  {
   "cell_type": "markdown",
   "metadata": {
    "colab_type": "text",
    "id": "OOFVn98VpZP5"
   },
   "source": [
    "## RBF Layer for Keras\n",
    "Keras doesn't provide RBF layers natively.  [Petra Vidnerova](https://github.com/PetraVidnerova/rbf_keras) does provide an RBF layer - this demonstrates how to write custom layers in Keras."
   ]
  },
  {
   "cell_type": "code",
   "execution_count": 44,
   "metadata": {
    "colab": {
     "autoexec": {
      "startup": false,
      "wait_interval": 0
     },
     "base_uri": "https://localhost:8080/",
     "height": 34
    },
    "colab_type": "code",
    "collapsed": false,
    "executionInfo": {
     "elapsed": 2108,
     "status": "ok",
     "timestamp": 1532455751273,
     "user": {
      "displayName": "Jeffrey Norton",
      "photoUrl": "https://lh3.googleusercontent.com/a/default-user=s128",
      "userId": "105168130564860049225"
     },
     "user_tz": 420
    },
    "id": "es9ukPefpXXP",
    "outputId": "0e47b38e-f39e-4591-a3c4-f1e590607ab7"
   },
   "outputs": [],
   "source": [
    "from keras.initializers import Initializer\n",
    "import numpy as np \n",
    "\n",
    "class InitFromFile(Initializer):\n",
    "    \"\"\" Initialize the weights by loading from file.\n",
    "    # Arguments\n",
    "        filename: name of file, should by .npy file \n",
    "    \"\"\"\n",
    "    def __init__(self, filename):\n",
    "        self.filename = filename \n",
    "\n",
    "    def __call__(self, shape, dtype=None):\n",
    "        with open(self.filename, \"rb\") as f:\n",
    "            X = np.load(f)\n",
    "        assert shape == X.shape \n",
    "        return X \n",
    "\n",
    "    def get_config(self):\n",
    "        return {\n",
    "            'filename': self.filename\n",
    "        }"
   ]
  },
  {
   "cell_type": "code",
   "execution_count": 45,
   "metadata": {
    "colab": {
     "autoexec": {
      "startup": false,
      "wait_interval": 0
     }
    },
    "colab_type": "code",
    "collapsed": true,
    "id": "mlgadc4ep8F5"
   },
   "outputs": [],
   "source": [
    "import random \n",
    "from keras import backend as K\n",
    "from keras.engine.topology import Layer\n",
    "from keras.initializers import RandomUniform, Initializer, Orthogonal, Constant\n",
    "import numpy as np\n",
    "\n",
    "class InitCentersRandom(Initializer):\n",
    "    \"\"\" Initializer for initialization of centers of RBF network\n",
    "        as random samples from the given data set.\n",
    "    # Arguments\n",
    "        X: matrix, dataset to choose the centers from (random rows \n",
    "          are taken as centers)\n",
    "    \"\"\"\n",
    "    def __init__(self, X):\n",
    "        self.X = X \n",
    "\n",
    "    def __call__(self, shape, dtype=None):\n",
    "        assert shape[1] == self.X.shape[1]\n",
    "        idx = np.random.randint(self.X.shape[0], size=shape[0])\n",
    "        return self.X[idx,:]\n",
    "\n",
    "        \n",
    "class RBFLayer(Layer):\n",
    "    \"\"\" Layer of Gaussian RBF units. \n",
    "    # Example\n",
    " \n",
    "    ```python\n",
    "        model = Sequential()\n",
    "        model.add(RBFLayer(10,\n",
    "                           initializer=InitCentersRandom(X), \n",
    "                           betas=1.0,\n",
    "                           input_shape=(1,)))\n",
    "        model.add(Dense(1))\n",
    "    ```\n",
    "    \n",
    "    # Arguments\n",
    "        output_dim: number of hidden units (i.e. number of outputs of the layer)\n",
    "        initializer: instance of initiliazer to initialize centers\n",
    "        betas: float, initial value for betas \n",
    "    \"\"\"\n",
    "    def __init__(self, output_dim, initializer=None, betas=1.0, **kwargs):\n",
    "        self.output_dim = output_dim\n",
    "        self.init_betas = betas \n",
    "        if not initializer:\n",
    "            self.initializer = RandomUniform(0.0, 1.0)\n",
    "        else:\n",
    "            self.initializer = initializer \n",
    "        super(RBFLayer, self).__init__(**kwargs)\n",
    "\n",
    "    def build(self, input_shape):\n",
    "        \n",
    "        self.centers = self.add_weight(name='centers', \n",
    "                                       shape=(self.output_dim, input_shape[1]),\n",
    "                                       initializer=self.initializer,\n",
    "                                       trainable=True)\n",
    "        self.betas = self.add_weight(name='betas',\n",
    "                                     shape=(self.output_dim,),\n",
    "                                     initializer=Constant(value=self.init_betas),\n",
    "                                     trainable=True)\n",
    "            \n",
    "        super(RBFLayer, self).build(input_shape)  \n",
    "\n",
    "    def call(self, x):\n",
    "\n",
    "        C = K.expand_dims(self.centers)\n",
    "        H = K.transpose(C-K.transpose(x))\n",
    "        return K.exp( -self.betas * K.sum(H**2, axis=1))\n",
    "\n",
    "    def compute_output_shape(self, input_shape):\n",
    "        return (input_shape[0], self.output_dim)\n",
    "\n",
    "\n",
    "    def get_config(self):\n",
    "        # have to define get_config to be able to use model_from_json\n",
    "        config = {\n",
    "            'output_dim': self.output_dim\n",
    "        }\n",
    "        base_config = super(RBFLayer, self).get_config()\n",
    "        return dict(list(base_config.items()) + list(config.items()))"
   ]
  },
  {
   "cell_type": "markdown",
   "metadata": {
    "colab_type": "text",
    "id": "kJz4VQ2L-ARQ"
   },
   "source": [
    "## Creating an RBF **Network**\n",
    "\n",
    "Similar to our feed forward case, we write some helper functions."
   ]
  },
  {
   "cell_type": "code",
   "execution_count": 46,
   "metadata": {
    "colab": {
     "autoexec": {
      "startup": false,
      "wait_interval": 0
     }
    },
    "colab_type": "code",
    "collapsed": false,
    "id": "4onk9aCJQg-6"
   },
   "outputs": [],
   "source": [
    "import math\n",
    "import pandas as pd\n",
    "import seaborn as sns\n",
    "import matplotlib.pyplot as plt\n",
    "from sklearn.model_selection import train_test_split\n",
    "from sklearn.metrics import mean_squared_error\n",
    "\n",
    "from IPython.display import SVG\n",
    "from keras.utils.vis_utils import model_to_dot\n",
    "\n",
    "import keras\n",
    "from keras.models import Sequential\n",
    "from keras.layers import Dense, Activation\n",
    "from keras import backend as K\n",
    "from keras.utils.generic_utils import get_custom_objects"
   ]
  },
  {
   "cell_type": "markdown",
   "metadata": {
    "colab_type": "text",
    "id": "UVeqHlqOktK6"
   },
   "source": [
    "RBFs are really designed to work with continuous functions.  So one problem to consider is fitting (continuous) datasets.  For simplicity - we can simply just generate a dataset using some curve function like sin.  What's nice about using a real function is that we can generate what should be other data points with ease .\n",
    "\n",
    "One question that should be asked is if it is possible to extrapolate values, that is, perform prediction outside of the training range?  We shall discover that this is not possible, but it is a good question.\n",
    "\n",
    "## One-Dimensional Example"
   ]
  },
  {
   "cell_type": "code",
   "execution_count": 47,
   "metadata": {
    "colab": {
     "autoexec": {
      "startup": false,
      "wait_interval": 0
     }
    },
    "colab_type": "code",
    "collapsed": true,
    "id": "o90uTfDARds3"
   },
   "outputs": [],
   "source": [
    "stepsize = 0.05\n",
    "test0, testf = -1.0, 10.0\n",
    "train0, trainf = test0-stepsize/2.0, testf+stepsize/2.0\n",
    "\n",
    "# Generate a data set from the function sin(2*pi*t)\n",
    "def test_function(x):\n",
    "  return np.sin(2*math.pi*x)\n",
    "\n",
    "ptrain_X = np.arange(test0, testf, stepsize)\n",
    "ptrain_Y = test_function(ptrain_X)\n",
    "\n",
    "# And for validation, let's create a somewhat overlapping\n",
    "# dataset, but are going to let this dataset range go to 2.\n",
    "ptest_X = np.arange(train0, trainf, 2*stepsize)\n",
    "ptest_Y = test_function(ptest_X)"
   ]
  },
  {
   "cell_type": "code",
   "execution_count": 48,
   "metadata": {
    "colab": {
     "autoexec": {
      "startup": false,
      "wait_interval": 0
     },
     "base_uri": "https://localhost:8080/",
     "height": 128
    },
    "colab_type": "code",
    "collapsed": false,
    "executionInfo": {
     "elapsed": 450,
     "status": "ok",
     "timestamp": 1532455753735,
     "user": {
      "displayName": "Jeffrey Norton",
      "photoUrl": "https://lh3.googleusercontent.com/a/default-user=s128",
      "userId": "105168130564860049225"
     },
     "user_tz": 420
    },
    "id": "ifCK1BHqSWZ9",
    "outputId": "ef700190-60f8-4d43-afb2-b8d90de94190"
   },
   "outputs": [
    {
     "data": {
      "image/png": "[encoded data removed]",
      "text/plain": [
       "<matplotlib.figure.Figure at 0x7fd838150eb8>"
      ]
     },
     "metadata": {},
     "output_type": "display_data"
    }
   ],
   "source": [
    "sns.set(style=\"darkgrid\")\n",
    "\n",
    "# Set up the figure\n",
    "f, ax = plt.subplots(figsize=(8, 8))\n",
    "ax.set_aspect(\"equal\")\n",
    "\n",
    "# Draw the two density plots\n",
    "ax = sns.regplot(x=ptrain_X, y=ptrain_Y, fit_reg=False, color='blue')\n",
    "ax = sns.regplot(x=ptest_X, y=ptest_Y, fit_reg=False, color='red')"
   ]
  },
  {
   "cell_type": "markdown",
   "metadata": {
    "colab_type": "text",
    "id": "nsTND-Gqf9-2"
   },
   "source": [
    "Define functions which will create the model, train it, and then test it.  First, a function to create a model."
   ]
  },
  {
   "cell_type": "code",
   "execution_count": 60,
   "metadata": {
    "colab": {
     "autoexec": {
      "startup": false,
      "wait_interval": 0
     }
    },
    "colab_type": "code",
    "collapsed": true,
    "id": "z8XZwdw_gShl"
   },
   "outputs": [],
   "source": [
    "def create_model(X_train, hidden_layer_size, dim=1, betas=3.0, optimizer = None,\n",
    "                 lr=0.01):\n",
    "    np.random.seed(seed)\n",
    "    model = Sequential() # create model\n",
    "    \n",
    "    # Create an RBF hidden layer - this uses the Gaussian as the closeness function.\n",
    "    model.add(RBFLayer(hidden_layer_size,\n",
    "                       initializer=InitCentersRandom(X_train), \n",
    "                       betas=betas,\n",
    "                       input_shape=(dim,))) # hidden layer\n",
    "\n",
    "    model.add(Dense(1)) # output layer\n",
    "    \n",
    "    logging.info('Network with RBF layer: size={}, betas={}, dimension={}.'.format(hidden_layer_size, betas, dim))\n",
    "    # Default learning rate is 0.001.  For this problem, we can get very aggressive\n",
    "    # on the learning rate.\n",
    "    if optimizer is None:\n",
    "        optimizer = keras.optimizers.Adam(lr=lr)\n",
    "    \n",
    "    logging.info('Optimizer type: {}'.format(type(optimizer)))\n",
    "    \n",
    "    # For regression (which this is closest to), use RMSE, not cross-entropy.\n",
    "    model.compile(loss='mean_squared_error',optimizer=optimizer)\n",
    "    return model"
   ]
  },
  {
   "cell_type": "code",
   "execution_count": 61,
   "metadata": {
    "collapsed": true
   },
   "outputs": [],
   "source": [
    "# Fit the model\n",
    "def fit_model(model, X_train, Y_train, X_test, Y_test, epochs=1000):\n",
    "    # verbose=0 suppresses the file writing message\n",
    "    # note that the fit method expects a list of callbacks\n",
    "    fitting_log={'loss':[], 'acc':[]}\n",
    "    \n",
    "    # Fit in a loop so we can track the test accuracy as we go.\n",
    "    for i in range(epochs):\n",
    "        results = model.fit(X_train, Y_train, epochs=1, verbose=0, batch_size=X_train.shape[0],\n",
    "                            initial_epoch=0)\n",
    "        fitting_log['loss'].append(results.history['loss'][0])\n",
    "        y_pred = model.predict(X_train)\n",
    "        fitting_log['acc'].append(mean_squared_error(Y_train, y_pred))\n",
    "        if i % 25 == 0:\n",
    "            logging.info('Epoch {}: Loss={}'.format(i, results.history['loss'][0]))\n",
    "        \n",
    "    # Evaluate the model on the test case to see how we did.\n",
    "    y_tpred = model.predict(X_test)\n",
    "    return model, fitting_log, mean_squared_error(Y_test, y_tpred)"
   ]
  },
  {
   "cell_type": "markdown",
   "metadata": {
    "colab_type": "text",
    "id": "qj7ggvVDkD_1"
   },
   "source": [
    "Plotter of loss and accuracy."
   ]
  },
  {
   "cell_type": "code",
   "execution_count": 62,
   "metadata": {
    "colab": {
     "autoexec": {
      "startup": false,
      "wait_interval": 0
     }
    },
    "colab_type": "code",
    "collapsed": true,
    "id": "dCVnhe3Jis8m"
   },
   "outputs": [],
   "source": [
    "def plot_nn(fitted_log):\n",
    "    fig, (ax1, ax2) = plt.subplots(2, 1)\n",
    "    ax1.plot(range(len(fitted_log['loss'])), fitted_log['loss'],linestyle='-', color='blue',label='Training', lw=2)\n",
    "    ax2.plot(range(len(fitted_log['acc'])), fitted_log['acc'],linestyle='-', color='blue',label='Training', lw=2)\n",
    "    leg = ax1.legend(bbox_to_anchor=(0.7, 0.9), loc=2, borderaxespad=0.,fontsize=13)\n",
    "    ax1.set_xticklabels('')\n",
    "    ax2.set_xlabel('# Epochs',fontsize=14)\n",
    "    ax1.set_ylabel('Loss',fontsize=14)\n",
    "    ax2.set_ylabel('Accuracy',fontsize=14)\n",
    "    plt.show()"
   ]
  },
  {
   "cell_type": "markdown",
   "metadata": {
    "colab_type": "text",
    "id": "F1afMNwr_IZG"
   },
   "source": [
    "Generates the output results."
   ]
  },
  {
   "cell_type": "code",
   "execution_count": 63,
   "metadata": {
    "colab": {
     "autoexec": {
      "startup": false,
      "wait_interval": 0
     }
    },
    "colab_type": "code",
    "collapsed": true,
    "id": "9GtYUEsUjPBa"
   },
   "outputs": [],
   "source": [
    "def output_results(model, fitting_log, test_deviation):\n",
    "    # Print a summary of the model\n",
    "    print(model.summary())\n",
    "    # Print the fitting log\n",
    "    nepochs = len(fitting_log['loss'])\n",
    "    print(len(fitting_log['acc']), nepochs)\n",
    "    print('Training loss, accuracy:', [fitting_log['loss'][nepochs-2:nepochs-1], fitting_log['acc'][nepochs-2:nepochs-1]])\n",
    "    plot_nn(fitting_log)\n",
    "    print('Test set metric (RMSE): {}'.format(test_deviation))"
   ]
  },
  {
   "cell_type": "markdown",
   "metadata": {
    "colab_type": "text",
    "id": "p0e8Njix_M5N"
   },
   "source": [
    "Properly shape the data."
   ]
  },
  {
   "cell_type": "code",
   "execution_count": 64,
   "metadata": {
    "colab": {
     "autoexec": {
      "startup": false,
      "wait_interval": 0
     }
    },
    "colab_type": "code",
    "collapsed": true,
    "id": "d6eSaifOn89n"
   },
   "outputs": [],
   "source": [
    "train_X = np.transpose(np.reshape(ptrain_X, (1,-1)))\n",
    "train_Y = np.transpose(np.reshape(ptrain_Y, (1,-1)))\n",
    "test_X = np.transpose(np.reshape(ptest_X, (1,-1)))\n",
    "test_Y = np.transpose(np.reshape(ptest_Y, (1,-1)))"
   ]
  },
  {
   "cell_type": "markdown",
   "metadata": {
    "colab_type": "text",
    "id": "-S5H4kDQ_RNz"
   },
   "source": [
    "Try a hidden layer with only five nodes."
   ]
  },
  {
   "cell_type": "code",
   "execution_count": 65,
   "metadata": {
    "collapsed": false
   },
   "outputs": [
    {
     "name": "stderr",
     "output_type": "stream",
     "text": [
      "INFO:root:Network with RBF layer: size=5, betas=3.0, dimension=1.\n",
      "INFO:root:Optimizer type: <class 'keras.optimizers.Adam'>\n",
      "INFO:root:Epoch 0: Loss=0.6094675660133362\n",
      "INFO:root:Epoch 25: Loss=0.5294017791748047\n",
      "INFO:root:Epoch 50: Loss=0.5045417547225952\n",
      "INFO:root:Epoch 75: Loss=0.4978214204311371\n",
      "INFO:root:Epoch 100: Loss=0.49485495686531067\n",
      "INFO:root:Epoch 125: Loss=0.492515504360199\n",
      "INFO:root:Epoch 150: Loss=0.48998937010765076\n",
      "INFO:root:Epoch 175: Loss=0.48718348145484924\n",
      "INFO:root:Epoch 200: Loss=0.48418524861335754\n",
      "INFO:root:Epoch 225: Loss=0.48110681772232056\n",
      "INFO:root:Epoch 250: Loss=0.47804033756256104\n",
      "INFO:root:Epoch 275: Loss=0.47504884004592896\n",
      "INFO:root:Epoch 300: Loss=0.4721701443195343\n",
      "INFO:root:Epoch 325: Loss=0.4694238603115082\n",
      "INFO:root:Epoch 350: Loss=0.46681663393974304\n",
      "INFO:root:Epoch 375: Loss=0.4643465578556061\n",
      "INFO:root:Epoch 400: Loss=0.4620057940483093\n",
      "INFO:root:Epoch 425: Loss=0.4597831070423126\n",
      "INFO:root:Epoch 450: Loss=0.4576653838157654\n",
      "INFO:root:Epoch 475: Loss=0.4556392431259155\n",
      "INFO:root:Epoch 500: Loss=0.4536917209625244\n",
      "INFO:root:Epoch 525: Loss=0.45181146264076233\n",
      "INFO:root:Epoch 550: Loss=0.4499889314174652\n",
      "INFO:root:Epoch 575: Loss=0.4482167959213257\n",
      "INFO:root:Epoch 600: Loss=0.44648995995521545\n",
      "INFO:root:Epoch 625: Loss=0.44480541348457336\n",
      "INFO:root:Epoch 650: Loss=0.44316181540489197\n",
      "INFO:root:Epoch 675: Loss=0.4415591359138489\n",
      "INFO:root:Epoch 700: Loss=0.43999817967414856\n",
      "INFO:root:Epoch 725: Loss=0.4384802281856537\n",
      "INFO:root:Epoch 750: Loss=0.4370066821575165\n",
      "INFO:root:Epoch 775: Loss=0.43557873368263245\n",
      "INFO:root:Epoch 800: Loss=0.434197336435318\n",
      "INFO:root:Epoch 825: Loss=0.4328630566596985\n",
      "INFO:root:Epoch 850: Loss=0.4315760135650635\n",
      "INFO:root:Epoch 875: Loss=0.43033596873283386\n",
      "INFO:root:Epoch 900: Loss=0.42914238572120667\n",
      "INFO:root:Epoch 925: Loss=0.42799434065818787\n",
      "INFO:root:Epoch 950: Loss=0.42689070105552673\n",
      "INFO:root:Epoch 975: Loss=0.425830215215683\n"
     ]
    }
   ],
   "source": [
    "model_5, fitting_log_5, test_deviation_5 = fit_model(\n",
    "    create_model(train_X, 5, dim=1, betas=3.0, optimizer = None, lr=0.01),\n",
    "    train_X, train_Y, test_X, test_Y, epochs=1000)"
   ]
  },
  {
   "cell_type": "code",
   "execution_count": 66,
   "metadata": {
    "colab": {
     "autoexec": {
      "startup": false,
      "wait_interval": 0
     },
     "base_uri": "https://localhost:8080/",
     "height": 617
    },
    "colab_type": "code",
    "collapsed": false,
    "executionInfo": {
     "elapsed": 2397,
     "status": "ok",
     "timestamp": 1532455806334,
     "user": {
      "displayName": "Jeffrey Norton",
      "photoUrl": "https://lh3.googleusercontent.com/a/default-user=s128",
      "userId": "105168130564860049225"
     },
     "user_tz": 420
    },
    "id": "heRdhd7cl-Yf",
    "outputId": "ea43cff8-8cf2-4777-ac77-b03db8c4d873"
   },
   "outputs": [
    {
     "name": "stdout",
     "output_type": "stream",
     "text": [
      "_________________________________________________________________\n",
      "Layer (type)                 Output Shape              Param #   \n",
      "=================================================================\n",
      "rbf_layer_5 (RBFLayer)       (None, 5)                 10        \n",
      "_________________________________________________________________\n",
      "dense_5 (Dense)              (None, 1)                 6         \n",
      "=================================================================\n",
      "Total params: 16\n",
      "Trainable params: 16\n",
      "Non-trainable params: 0\n",
      "_________________________________________________________________\n",
      "None\n",
      "1000 1000\n",
      "Training loss, accuracy: [[0.42489144206047058], [0.42485139179338272]]\n"
     ]
    },
    {
     "data": {
      "image/png": "[encoded data removed]",
      "text/plain": [
       "<matplotlib.figure.Figure at 0x7fd8298930f0>"
      ]
     },
     "metadata": {},
     "output_type": "display_data"
    },
    {
     "name": "stdout",
     "output_type": "stream",
     "text": [
      "Test set metric (RMSE): 0.42133290163034465\n"
     ]
    }
   ],
   "source": [
    "output_results(model_5, fitting_log_5, test_deviation_5)"
   ]
  },
  {
   "cell_type": "markdown",
   "metadata": {
    "colab_type": "text",
    "id": "AozQPrfn_t6f"
   },
   "source": [
    "What happens with a hidden layer with 100 nodes?"
   ]
  },
  {
   "cell_type": "code",
   "execution_count": 67,
   "metadata": {
    "colab": {
     "autoexec": {
      "startup": false,
      "wait_interval": 0
     }
    },
    "colab_type": "code",
    "collapsed": false,
    "id": "efwdkp9EmNoM"
   },
   "outputs": [
    {
     "name": "stderr",
     "output_type": "stream",
     "text": [
      "INFO:root:Network with RBF layer: size=100, betas=3.0, dimension=1.\n",
      "INFO:root:Optimizer type: <class 'keras.optimizers.Adam'>\n",
      "INFO:root:Epoch 0: Loss=0.7399215698242188\n",
      "INFO:root:Epoch 25: Loss=0.39712992310523987\n",
      "INFO:root:Epoch 50: Loss=0.30807504057884216\n",
      "INFO:root:Epoch 75: Loss=0.2100895792245865\n",
      "INFO:root:Epoch 100: Loss=0.11668968945741653\n",
      "INFO:root:Epoch 125: Loss=0.05046916753053665\n",
      "INFO:root:Epoch 150: Loss=0.018873630091547966\n",
      "INFO:root:Epoch 175: Loss=0.008404967375099659\n",
      "INFO:root:Epoch 200: Loss=0.004962980281561613\n",
      "INFO:root:Epoch 225: Loss=0.003462614957243204\n",
      "INFO:root:Epoch 250: Loss=0.0025798280257731676\n",
      "INFO:root:Epoch 275: Loss=0.0020076120272278786\n",
      "INFO:root:Epoch 300: Loss=0.001640031230635941\n",
      "INFO:root:Epoch 325: Loss=0.0013948098057880998\n",
      "INFO:root:Epoch 350: Loss=0.0012215081369504333\n",
      "INFO:root:Epoch 375: Loss=0.0010910319397225976\n",
      "INFO:root:Epoch 400: Loss=0.0009874942479655147\n",
      "INFO:root:Epoch 425: Loss=0.0009021747973747551\n",
      "INFO:root:Epoch 450: Loss=0.0008298211614601314\n",
      "INFO:root:Epoch 475: Loss=0.0007668542675673962\n"
     ]
    }
   ],
   "source": [
    "model_100, fitting_log_100, test_deviation_100 = fit_model(\n",
    "    create_model(train_X, 100, dim=1, betas=3.0, optimizer = None, lr=0.01),\n",
    "    train_X, train_Y, test_X, test_Y, epochs=500)"
   ]
  },
  {
   "cell_type": "code",
   "execution_count": 68,
   "metadata": {
    "colab": {
     "autoexec": {
      "startup": false,
      "wait_interval": 0
     },
     "base_uri": "https://localhost:8080/",
     "height": 617
    },
    "colab_type": "code",
    "collapsed": false,
    "executionInfo": {
     "elapsed": 842,
     "status": "ok",
     "timestamp": 1532455810551,
     "user": {
      "displayName": "Jeffrey Norton",
      "photoUrl": "https://lh3.googleusercontent.com/a/default-user=s128",
      "userId": "105168130564860049225"
     },
     "user_tz": 420
    },
    "id": "GuSkG76jmZkZ",
    "outputId": "0d4f5250-bf94-439f-83d7-34bd3bb47d5a"
   },
   "outputs": [
    {
     "name": "stdout",
     "output_type": "stream",
     "text": [
      "_________________________________________________________________\n",
      "Layer (type)                 Output Shape              Param #   \n",
      "=================================================================\n",
      "rbf_layer_6 (RBFLayer)       (None, 100)               200       \n",
      "_________________________________________________________________\n",
      "dense_6 (Dense)              (None, 1)                 101       \n",
      "=================================================================\n",
      "Total params: 301\n",
      "Trainable params: 301\n",
      "Non-trainable params: 0\n",
      "_________________________________________________________________\n",
      "None\n",
      "500 500\n",
      "Training loss, accuracy: [[0.00071503018261864781], [0.00071288709718906836]]\n"
     ]
    },
    {
     "data": {
      "image/png": "[encoded data removed]",
      "text/plain": [
       "<matplotlib.figure.Figure at 0x7fd82954b7f0>"
      ]
     },
     "metadata": {},
     "output_type": "display_data"
    },
    {
     "name": "stdout",
     "output_type": "stream",
     "text": [
      "Test set metric (RMSE): 0.0015464733864753017\n"
     ]
    }
   ],
   "source": [
    "output_results(model_100, fitting_log_100, test_deviation_100)"
   ]
  },
  {
   "cell_type": "markdown",
   "metadata": {
    "colab_type": "text",
    "id": "nonn0TnV_5mP"
   },
   "source": [
    "That is very good - both the training and testing metrics are less than the other versions we tried."
   ]
  },
  {
   "cell_type": "code",
   "execution_count": 69,
   "metadata": {
    "colab": {
     "autoexec": {
      "startup": false,
      "wait_interval": 0
     },
     "base_uri": "https://localhost:8080/",
     "height": 113
    },
    "colab_type": "code",
    "collapsed": false,
    "executionInfo": {
     "elapsed": 812,
     "status": "ok",
     "timestamp": 1532455811425,
     "user": {
      "displayName": "Jeffrey Norton",
      "photoUrl": "https://lh3.googleusercontent.com/a/default-user=s128",
      "userId": "105168130564860049225"
     },
     "user_tz": 420
    },
    "id": "J69a-FKDHyyq",
    "outputId": "e0a33a31-5637-4d85-c772-f87aac0d25f1"
   },
   "outputs": [
    {
     "data": {
      "image/png": "[encoded data removed]",
      "text/plain": [
       "<matplotlib.figure.Figure at 0x7fd811ec35f8>"
      ]
     },
     "metadata": {},
     "output_type": "display_data"
    }
   ],
   "source": [
    "px0, pxf = -2.0 - stepsize/3, 12 + stepsize/3\n",
    "predict_X = np.arange(px0, pxf, stepsize)\n",
    "predict_Y = model_100.predict(predict_X)\n",
    "\n",
    "# Set up the figure\n",
    "f, ax = plt.subplots(figsize=(8, 8))\n",
    "ax.set_aspect(\"equal\")\n",
    "\n",
    "# Draw a density plot for the prediction\n",
    "ax = sns.regplot(x=predict_X, y=predict_Y, fit_reg=False, color='green')"
   ]
  },
  {
   "cell_type": "markdown",
   "metadata": {
    "colab_type": "text",
    "id": "s2p4sMkMLtBs"
   },
   "source": [
    "This is not unexpected actually.  The decay in the extrapolated regions reflects relaxation inherent in the underlying mathematics.  Extrapolation won't work for these fits.  The predictions must be kept in the range of testing and training."
   ]
  }
 ],
 "metadata": {
  "colab": {
   "collapsed_sections": [],
   "default_view": {},
   "name": "RadialBasisFunctionNetwork.ipynb",
   "provenance": [],
   "version": "0.3.2",
   "views": {}
  },
  "kernelspec": {
   "display_name": "Python 3",
   "language": "python",
   "name": "python3"
  },
  "language_info": {
   "codemirror_mode": {
    "name": "ipython",
    "version": 3
   },
   "file_extension": ".py",
   "mimetype": "text/x-python",
   "name": "python",
   "nbconvert_exporter": "python",
   "pygments_lexer": "ipython3",
   "version": "3.5.2"
  }
 },
 "nbformat": 4,
 "nbformat_minor": 1
}
